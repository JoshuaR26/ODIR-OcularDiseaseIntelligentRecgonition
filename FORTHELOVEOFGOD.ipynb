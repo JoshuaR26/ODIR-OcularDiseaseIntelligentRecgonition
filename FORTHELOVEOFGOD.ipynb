{
 "cells": [
  {
   "cell_type": "markdown",
   "id": "6e86a343-a6b3-48bd-8566-2cd21d674ff9",
   "metadata": {},
   "source": [
    "# Importing Dependencies"
   ]
  },
  {
   "cell_type": "code",
   "execution_count": 2,
   "id": "089ea76d-47e4-4269-8091-21f2d5f65645",
   "metadata": {},
   "outputs": [],
   "source": [
    "import os\n",
    "import numpy as np\n",
    "\n",
    "import cv2\n",
    "import matplotlib.pylab as plt\n",
    "\n",
    "import tensorflow as tf"
   ]
  },
  {
   "cell_type": "code",
   "execution_count": 4,
   "id": "df997767-efda-492a-afd4-df566a2e4c89",
   "metadata": {},
   "outputs": [],
   "source": [
    "gpus = tf.config.experimental.list_physical_devices('GPU')\n",
    "for gpu in gpus:\n",
    "    tf.config.experimental.set_memory_growth(gpu, True)"
   ]
  },
  {
   "cell_type": "markdown",
   "id": "7cebef86-6cfa-4f29-8954-242031bd17ff",
   "metadata": {},
   "source": [
    "# Loading Dataset"
   ]
  },
  {
   "cell_type": "code",
   "execution_count": 5,
   "id": "40dbb5e9-1347-4247-a199-f802d46c0426",
   "metadata": {},
   "outputs": [],
   "source": [
    "train_dir = 'imgdata_v2/split_dataset/train/'\n",
    "val_dir = 'imgdata_v2/split_dataset/val/'\n",
    "test_dir = 'imgdata_v2/split_dataset/test/'"
   ]
  },
  {
   "cell_type": "code",
   "execution_count": 6,
   "id": "73f3148d-34b3-4a4b-a193-acd80e54af51",
   "metadata": {},
   "outputs": [],
   "source": [
    "from keras.preprocessing.image import ImageDataGenerator"
   ]
  },
  {
   "cell_type": "markdown",
   "id": "1ddd9b90-4157-449c-9785-1bd717b978c5",
   "metadata": {},
   "source": [
    "# Data Augmentation "
   ]
  },
  {
   "cell_type": "code",
   "execution_count": 8,
   "id": "524b7aea-6125-4e95-a94c-af16261c5fa5",
   "metadata": {},
   "outputs": [
    {
     "name": "stdout",
     "output_type": "stream",
     "text": [
      "Found 1456 images belonging to 2 classes.\n"
     ]
    }
   ],
   "source": [
    "train_datagen = ImageDataGenerator(rescale=1./255,\n",
    "                             brightness_range=(0.1, 1.5),\n",
    "                             horizontal_flip=True,\n",
    "                             vertical_flip=True,\n",
    "                             fill_mode='nearest')\n",
    "\n",
    "train_generator = train_datagen.flow_from_directory(train_dir,\n",
    "                                                   batch_size=16, \n",
    "                                                   target_size=(256,256),\n",
    "                                                   class_mode='binary')"
   ]
  },
  {
   "cell_type": "code",
   "execution_count": null,
   "id": "d4e6748f-8d5d-49af-9571-1f3ac5f6e7c1",
   "metadata": {},
   "outputs": [],
   "source": [
    "val_datagen = ImageDataGenerator(rescale=1./255)\n",
    "\n",
    "val_generator = val_datagen.flow_from_directory(val_dir,\n",
    "                                                batch_size=16,\n",
    "                                                target_size=(256, 256),\n",
    "                                                class_mode='binary')"
   ]
  },
  {
   "cell_type": "markdown",
   "id": "21ff902a-6f11-42e3-9367-283b8b06c4d6",
   "metadata": {},
   "source": [
    "# Evaluation Metrices "
   ]
  },
  {
   "cell_type": "code",
   "execution_count": 85,
   "id": "e2429dcb-eee8-4702-8bb9-3b9b2c4d8baf",
   "metadata": {},
   "outputs": [],
   "source": [
    "from tensorflow.keras.metrics import Precision, Recall, SpecificityAtSensitivity\n",
    "\n",
    "pre = Precision()\n",
    "rec = Recall()\n",
    "spe = SpecificityAtSensitivity(0.5)"
   ]
  },
  {
   "cell_type": "markdown",
   "id": "253ea79f-e428-4e6c-a321-46ec4c5a8993",
   "metadata": {},
   "source": [
    "# Creating CNN Model"
   ]
  },
  {
   "cell_type": "code",
   "execution_count": 91,
   "id": "954a5cc3-7f07-4079-a606-431b4ce06650",
   "metadata": {},
   "outputs": [
    {
     "name": "stdout",
     "output_type": "stream",
     "text": [
      "Model: \"sequential_10\"\n",
      "_________________________________________________________________\n",
      " Layer (type)                Output Shape              Param #   \n",
      "=================================================================\n",
      " conv2d_30 (Conv2D)          (None, 254, 254, 16)      448       \n",
      "                                                                 \n",
      " max_pooling2d_30 (MaxPoolin  (None, 127, 127, 16)     0         \n",
      " g2D)                                                            \n",
      "                                                                 \n",
      " dropout_40 (Dropout)        (None, 127, 127, 16)      0         \n",
      "                                                                 \n",
      " conv2d_31 (Conv2D)          (None, 125, 125, 32)      4640      \n",
      "                                                                 \n",
      " max_pooling2d_31 (MaxPoolin  (None, 62, 62, 32)       0         \n",
      " g2D)                                                            \n",
      "                                                                 \n",
      " dropout_41 (Dropout)        (None, 62, 62, 32)        0         \n",
      "                                                                 \n",
      " conv2d_32 (Conv2D)          (None, 60, 60, 16)        4624      \n",
      "                                                                 \n",
      " max_pooling2d_32 (MaxPoolin  (None, 30, 30, 16)       0         \n",
      " g2D)                                                            \n",
      "                                                                 \n",
      " dropout_42 (Dropout)        (None, 30, 30, 16)        0         \n",
      "                                                                 \n",
      " flatten_10 (Flatten)        (None, 14400)             0         \n",
      "                                                                 \n",
      " dense_20 (Dense)            (None, 256)               3686656   \n",
      "                                                                 \n",
      " dropout_43 (Dropout)        (None, 256)               0         \n",
      "                                                                 \n",
      " dense_21 (Dense)            (None, 1)                 257       \n",
      "                                                                 \n",
      "=================================================================\n",
      "Total params: 3,696,625\n",
      "Trainable params: 3,696,625\n",
      "Non-trainable params: 0\n",
      "_________________________________________________________________\n"
     ]
    }
   ],
   "source": [
    "from tensorflow.keras.models import Sequential\n",
    "from tensorflow.keras.layers import Conv2D, MaxPooling2D, Flatten, Dense, Dropout\n",
    "\n",
    "model = Sequential()\n",
    "\n",
    "model.add(Conv2D(16, (3,3), 1, activation='relu', input_shape=(256,256,3)))\n",
    "model.add(MaxPooling2D())\n",
    "model.add(Dropout(0.4))\n",
    "\n",
    "model.add(Conv2D(32, (3,3), 1, activation='relu'))\n",
    "model.add(MaxPooling2D())\n",
    "model.add(Dropout(0.5))\n",
    "\n",
    "model.add(Conv2D(16, (3,3), 1, activation='relu'))\n",
    "model.add(MaxPooling2D())\n",
    "model.add(Dropout(0.3))\n",
    "\n",
    "model.add(Flatten())\n",
    "\n",
    "model.add(Dense(256, activation='relu'))\n",
    "model.add(Dropout(0.3))\n",
    "model.add(Dense(1, activation='sigmoid'))\n",
    "\n",
    "model.compile(optimizer='adam', loss='binary_crossentropy', metrics=['accuracy', pre, rec, spe])\n",
    "\n",
    "model.summary()"
   ]
  },
  {
   "cell_type": "code",
   "execution_count": 62,
   "id": "0bf6f788-b01d-4c38-a144-53e22d9597e3",
   "metadata": {},
   "outputs": [],
   "source": [
    "logdir = 'LogDir'\n",
    "\n",
    "try:\n",
    "    os.mkdir(logdir)\n",
    "except Exception as e:\n",
    "    pass    \n",
    "\n",
    "tfb_callback = tf.keras.callbacks.TensorBoard(logdir)"
   ]
  },
  {
   "cell_type": "code",
   "execution_count": null,
   "id": "6c0d8293-9b50-4fce-a9ee-5df3b0147615",
   "metadata": {
    "scrolled": true
   },
   "outputs": [
    {
     "name": "stdout",
     "output_type": "stream",
     "text": [
      "Epoch 1/30\n",
      "91/91 [==============================] - 7s 64ms/step - loss: 0.7499 - accuracy: 0.5721 - precision_9: 0.5741 - recall_9: 0.6560 - specificity_at_sensitivity_9: 0.6147 - val_loss: 0.6192 - val_accuracy: 0.6747 - val_precision_9: 0.6158 - val_recall_9: 0.9813 - val_specificity_at_sensitivity_9: 0.8955\n",
      "Epoch 2/30\n",
      "91/91 [==============================] - 5s 58ms/step - loss: 0.4075 - accuracy: 0.8407 - precision_9: 0.8238 - recall_9: 0.8787 - specificity_at_sensitivity_9: 0.9348 - val_loss: 0.4029 - val_accuracy: 0.8313 - val_precision_9: 0.7647 - val_recall_9: 0.9720 - val_specificity_at_sensitivity_9: 0.9602\n",
      "Epoch 3/30\n",
      "91/91 [==============================] - 5s 59ms/step - loss: 0.3431 - accuracy: 0.8709 - precision_9: 0.8452 - recall_9: 0.9173 - specificity_at_sensitivity_9: 0.9419 - val_loss: 0.3651 - val_accuracy: 0.8313 - val_precision_9: 0.7667 - val_recall_9: 0.9673 - val_specificity_at_sensitivity_9: 0.9900\n",
      "Epoch 4/30\n",
      "91/91 [==============================] - 5s 60ms/step - loss: 0.3104 - accuracy: 0.8695 - precision_9: 0.8415 - recall_9: 0.9200 - specificity_at_sensitivity_9: 0.9618 - val_loss: 0.3726 - val_accuracy: 0.8602 - val_precision_9: 0.8578 - val_recall_9: 0.8738 - val_specificity_at_sensitivity_9: 0.9851\n",
      "Epoch 5/30\n",
      "91/91 [==============================] - 5s 58ms/step - loss: 0.2961 - accuracy: 0.8757 - precision_9: 0.8570 - recall_9: 0.9107 - specificity_at_sensitivity_9: 0.9788 - val_loss: 0.3261 - val_accuracy: 0.8434 - val_precision_9: 0.7770 - val_recall_9: 0.9766 - val_specificity_at_sensitivity_9: 1.0000\n",
      "Epoch 6/30\n",
      "91/91 [==============================] - 5s 60ms/step - loss: 0.2920 - accuracy: 0.8798 - precision_9: 0.8635 - recall_9: 0.9107 - specificity_at_sensitivity_9: 0.9773 - val_loss: 0.2575 - val_accuracy: 0.8940 - val_precision_9: 0.8664 - val_recall_9: 0.9393 - val_specificity_at_sensitivity_9: 1.0000\n",
      "Epoch 7/30\n",
      "91/91 [==============================] - 5s 60ms/step - loss: 0.2550 - accuracy: 0.8935 - precision_9: 0.8790 - recall_9: 0.9200 - specificity_at_sensitivity_9: 0.9887 - val_loss: 0.2607 - val_accuracy: 0.8795 - val_precision_9: 0.8254 - val_recall_9: 0.9720 - val_specificity_at_sensitivity_9: 0.9950\n",
      "Epoch 8/30\n",
      "91/91 [==============================] - 5s 60ms/step - loss: 0.2455 - accuracy: 0.8949 - precision_9: 0.8755 - recall_9: 0.9280 - specificity_at_sensitivity_9: 0.9844 - val_loss: 0.2439 - val_accuracy: 0.8940 - val_precision_9: 0.8484 - val_recall_9: 0.9673 - val_specificity_at_sensitivity_9: 0.9950\n",
      "Epoch 9/30\n",
      "91/91 [==============================] - 5s 59ms/step - loss: 0.2427 - accuracy: 0.8990 - precision_9: 0.8870 - recall_9: 0.9213 - specificity_at_sensitivity_9: 0.9929 - val_loss: 0.2398 - val_accuracy: 0.8988 - val_precision_9: 0.8945 - val_recall_9: 0.9112 - val_specificity_at_sensitivity_9: 1.0000\n",
      "Epoch 10/30\n",
      "91/91 [==============================] - 5s 59ms/step - loss: 0.2270 - accuracy: 0.9045 - precision_9: 0.8922 - recall_9: 0.9267 - specificity_at_sensitivity_9: 0.9958 - val_loss: 0.1808 - val_accuracy: 0.9229 - val_precision_9: 0.9099 - val_recall_9: 0.9439 - val_specificity_at_sensitivity_9: 1.0000\n",
      "Epoch 11/30\n",
      "91/91 [==============================] - 5s 59ms/step - loss: 0.2288 - accuracy: 0.9093 - precision_9: 0.9066 - recall_9: 0.9187 - specificity_at_sensitivity_9: 0.9943 - val_loss: 0.2310 - val_accuracy: 0.9036 - val_precision_9: 0.8566 - val_recall_9: 0.9766 - val_specificity_at_sensitivity_9: 1.0000\n",
      "Epoch 12/30\n",
      "91/91 [==============================] - 5s 60ms/step - loss: 0.2390 - accuracy: 0.9073 - precision_9: 0.8968 - recall_9: 0.9267 - specificity_at_sensitivity_9: 0.9887 - val_loss: 0.2127 - val_accuracy: 0.9036 - val_precision_9: 0.8655 - val_recall_9: 0.9626 - val_specificity_at_sensitivity_9: 1.0000\n",
      "Epoch 13/30\n",
      "91/91 [==============================] - 5s 60ms/step - loss: 0.2139 - accuracy: 0.9066 - precision_9: 0.8997 - recall_9: 0.9213 - specificity_at_sensitivity_9: 0.9958 - val_loss: 0.2022 - val_accuracy: 0.9133 - val_precision_9: 0.8648 - val_recall_9: 0.9860 - val_specificity_at_sensitivity_9: 1.0000\n",
      "Epoch 14/30\n",
      "91/91 [==============================] - 5s 59ms/step - loss: 0.1931 - accuracy: 0.9238 - precision_9: 0.9209 - recall_9: 0.9320 - specificity_at_sensitivity_9: 1.0000 - val_loss: 0.1773 - val_accuracy: 0.9301 - val_precision_9: 0.9695 - val_recall_9: 0.8925 - val_specificity_at_sensitivity_9: 1.0000\n",
      "Epoch 15/30\n",
      "91/91 [==============================] - 5s 60ms/step - loss: 0.2047 - accuracy: 0.9135 - precision_9: 0.9105 - recall_9: 0.9227 - specificity_at_sensitivity_9: 0.9986 - val_loss: 0.1736 - val_accuracy: 0.9253 - val_precision_9: 0.9031 - val_recall_9: 0.9579 - val_specificity_at_sensitivity_9: 1.0000\n",
      "Epoch 16/30\n",
      "91/91 [==============================] - 5s 59ms/step - loss: 0.1774 - accuracy: 0.9210 - precision_9: 0.9172 - recall_9: 0.9307 - specificity_at_sensitivity_9: 0.9972 - val_loss: 0.1675 - val_accuracy: 0.9253 - val_precision_9: 0.9031 - val_recall_9: 0.9579 - val_specificity_at_sensitivity_9: 1.0000\n",
      "Epoch 17/30\n",
      "64/91 [====================>.........] - ETA: 1s - loss: 0.1865 - accuracy: 0.9219 - precision_9: 0.9248 - recall_9: 0.9175 - specificity_at_sensitivity_9: 0.9961"
     ]
    }
   ],
   "source": [
    "model_fit = model.fit(train_generator, \n",
    "                      epochs=30, \n",
    "                      shuffle=True, \n",
    "                      validation_data=val_generator, \n",
    "                      callbacks=[tfb_callback])"
   ]
  },
  {
   "cell_type": "markdown",
   "id": "c22e0f9e-39d4-405c-8242-78cfd355f3cf",
   "metadata": {},
   "source": [
    "# Plotting Model Performance"
   ]
  },
  {
   "cell_type": "code",
   "execution_count": 76,
   "id": "1c3af8ff-fd96-4013-9ad0-fa2355b9f899",
   "metadata": {},
   "outputs": [
    {
     "data": {
      "text/plain": [
       "<matplotlib.legend.Legend at 0x2a0e94c4d90>"
      ]
     },
     "execution_count": 76,
     "metadata": {},
     "output_type": "execute_result"
    },
    {
     "data": {
      "image/png": "[encoded data removed]",
      "text/plain": [
       "<Figure size 1000x1000 with 2 Axes>"
      ]
     },
     "metadata": {},
     "output_type": "display_data"
    }
   ],
   "source": [
    "fig, axs = plt.subplots(2, 1, figsize=(10,10))\n",
    "\n",
    "axs[0].plot(model_fit.history['loss'], \n",
    "            color='red', \n",
    "            label='Loss')\n",
    "axs[0].plot(model_fit.history['val_loss'], \n",
    "            color='orange', \n",
    "            label='Validation Loss')\n",
    "axs[0].legend(loc='upper right')\n",
    "\n",
    "axs[1].plot(model_fit.history['accuracy'], \n",
    "             color='green', \n",
    "             label='Accuracy')\n",
    "axs[1].plot(model_fit.history['val_accuracy'], \n",
    "             color='teal', \n",
    "             label='Validation Accuracy')\n",
    "axs[1].legend(loc='upper left')"
   ]
  },
  {
   "cell_type": "markdown",
   "id": "72b062b5-5784-41e5-8e7a-5b93b1e40bd1",
   "metadata": {},
   "source": [
    "# Evaluating Model Performance"
   ]
  },
  {
   "cell_type": "code",
   "execution_count": 84,
   "id": "2e319ee2-857a-4030-bcb9-12b1c2486896",
   "metadata": {},
   "outputs": [
    {
     "name": "stdout",
     "output_type": "stream",
     "text": [
      "Found 210 images belonging to 2 classes.\n"
     ]
    }
   ],
   "source": [
    "test_datagen = ImageDataGenerator(rescale=1./255)\n",
    "\n",
    "test_generator = test_datagen.flow_from_directory(test_dir,\n",
    "                                                batch_size=16,\n",
    "                                                target_size=(256, 256),\n",
    "                                                class_mode='binary')"
   ]
  },
  {
   "cell_type": "code",
   "execution_count": 86,
   "id": "54af739a-2298-43ac-a12f-e4202dc88def",
   "metadata": {
    "scrolled": true
   },
   "outputs": [
    {
     "name": "stdout",
     "output_type": "stream",
     "text": [
      "14/14 [==============================] - 1s 30ms/step - loss: 0.1114 - accuracy: 0.9619 - precision_5: 0.9386 - recall_5: 0.9907 - specificity_at_sensitivity_5: 1.0000\n",
      "Accuracy: 0.961904764175415\n",
      "Precision: 0.9385964870452881\n",
      "Recall: 0.9907407164573669\n",
      "Specificity (at sensitivity 0.5): 1.0\n"
     ]
    }
   ],
   "source": [
    "evaluation = model.evaluate(test_generator, verbose=1)\n",
    "\n",
    "accuracy = evaluation[1]  # 'accuracy'\n",
    "precision = evaluation[2]  # Precision\n",
    "recall = evaluation[3]     # Recall\n",
    "specificity = evaluation[4]  # SpecificityAtSensitivity(0.5)\n",
    "\n",
    "print(f'Accuracy: {accuracy}')\n",
    "print(f'Precision: {precision}')\n",
    "print(f'Recall: {recall}')\n",
    "print(f'Specificity (at sensitivity 0.5): {specificity}')"
   ]
  }
 ],
 "metadata": {
  "kernelspec": {
   "display_name": "Python 3 (ipykernel)",
   "language": "python",
   "name": "python3"
  },
  "language_info": {
   "codemirror_mode": {
    "name": "ipython",
    "version": 3
   },
   "file_extension": ".py",
   "mimetype": "text/x-python",
   "name": "python",
   "nbconvert_exporter": "python",
   "pygments_lexer": "ipython3",
   "version": "3.10.10"
  }
 },
 "nbformat": 4,
 "nbformat_minor": 5
}
