{
 "cells": [
  {
   "cell_type": "markdown",
   "id": "6e86a343-a6b3-48bd-8566-2cd21d674ff9",
   "metadata": {},
   "source": [
    "# Importing Dependencies"
   ]
  },
  {
   "cell_type": "code",
   "execution_count": 1,
   "id": "089ea76d-47e4-4269-8091-21f2d5f65645",
   "metadata": {},
   "outputs": [],
   "source": [
    "import os\n",
    "import numpy as np\n",
    "\n",
    "import cv2\n",
    "import matplotlib.pylab as plt\n",
    "\n",
    "import tensorflow as tf"
   ]
  },
  {
   "cell_type": "code",
   "execution_count": 2,
   "id": "df997767-efda-492a-afd4-df566a2e4c89",
   "metadata": {},
   "outputs": [],
   "source": [
    "gpus = tf.config.experimental.list_physical_devices('GPU')\n",
    "for gpu in gpus:\n",
    "    tf.config.experimental.set_memory_growth(gpu, True)"
   ]
  },
  {
   "cell_type": "markdown",
   "id": "21ff902a-6f11-42e3-9367-283b8b06c4d6",
   "metadata": {},
   "source": [
    "# Importing Evaluation Metrices "
   ]
  },
  {
   "cell_type": "code",
   "execution_count": 3,
   "id": "e2429dcb-eee8-4702-8bb9-3b9b2c4d8baf",
   "metadata": {},
   "outputs": [],
   "source": [
    "from tensorflow.keras.metrics import Precision, Recall, SpecificityAtSensitivity\n",
    "\n",
    "pre = Precision()\n",
    "rec = Recall()\n",
    "spe = SpecificityAtSensitivity(0.5)"
   ]
  },
  {
   "cell_type": "markdown",
   "id": "253ea79f-e428-4e6c-a321-46ec4c5a8993",
   "metadata": {},
   "source": [
    "# Creating CNN Model"
   ]
  },
  {
   "cell_type": "code",
   "execution_count": 4,
   "id": "954a5cc3-7f07-4079-a606-431b4ce06650",
   "metadata": {},
   "outputs": [
    {
     "name": "stdout",
     "output_type": "stream",
     "text": [
      "Model: \"sequential\"\n",
      "_________________________________________________________________\n",
      " Layer (type)                Output Shape              Param #   \n",
      "=================================================================\n",
      " conv2d (Conv2D)             (None, 254, 254, 16)      448       \n",
      "                                                                 \n",
      " max_pooling2d (MaxPooling2D  (None, 127, 127, 16)     0         \n",
      " )                                                               \n",
      "                                                                 \n",
      " dropout (Dropout)           (None, 127, 127, 16)      0         \n",
      "                                                                 \n",
      " conv2d_1 (Conv2D)           (None, 125, 125, 32)      4640      \n",
      "                                                                 \n",
      " max_pooling2d_1 (MaxPooling  (None, 62, 62, 32)       0         \n",
      " 2D)                                                             \n",
      "                                                                 \n",
      " dropout_1 (Dropout)         (None, 62, 62, 32)        0         \n",
      "                                                                 \n",
      " conv2d_2 (Conv2D)           (None, 60, 60, 16)        4624      \n",
      "                                                                 \n",
      " max_pooling2d_2 (MaxPooling  (None, 30, 30, 16)       0         \n",
      " 2D)                                                             \n",
      "                                                                 \n",
      " dropout_2 (Dropout)         (None, 30, 30, 16)        0         \n",
      "                                                                 \n",
      " flatten (Flatten)           (None, 14400)             0         \n",
      "                                                                 \n",
      " dense (Dense)               (None, 256)               3686656   \n",
      "                                                                 \n",
      " dropout_3 (Dropout)         (None, 256)               0         \n",
      "                                                                 \n",
      " dense_1 (Dense)             (None, 1)                 257       \n",
      "                                                                 \n",
      "=================================================================\n",
      "Total params: 3,696,625\n",
      "Trainable params: 3,696,625\n",
      "Non-trainable params: 0\n",
      "_________________________________________________________________\n"
     ]
    }
   ],
   "source": [
    "from tensorflow.keras.models import Sequential\n",
    "from tensorflow.keras.layers import Conv2D, MaxPooling2D, Flatten, Dense, Dropout\n",
    "\n",
    "model = Sequential()\n",
    "\n",
    "model.add(Conv2D(16, (3,3), 1, activation='relu', input_shape=(256,256,3)))\n",
    "model.add(MaxPooling2D())\n",
    "model.add(Dropout(0.4))\n",
    "\n",
    "model.add(Conv2D(32, (3,3), 1, activation='relu'))\n",
    "model.add(MaxPooling2D())\n",
    "model.add(Dropout(0.5))\n",
    "\n",
    "model.add(Conv2D(16, (3,3), 1, activation='relu'))\n",
    "model.add(MaxPooling2D())\n",
    "model.add(Dropout(0.3))\n",
    "\n",
    "model.add(Flatten())\n",
    "\n",
    "model.add(Dense(256, activation='relu'))\n",
    "model.add(Dropout(0.3))\n",
    "model.add(Dense(1, activation='sigmoid'))\n",
    "\n",
    "model.compile(optimizer='adam', loss='binary_crossentropy', metrics='accuracy')\n",
    "\n",
    "model.summary()"
   ]
  },
  {
   "cell_type": "code",
   "execution_count": 5,
   "id": "0bf6f788-b01d-4c38-a144-53e22d9597e3",
   "metadata": {},
   "outputs": [],
   "source": [
    "logdir = 'LogDir'\n",
    "\n",
    "try:\n",
    "    os.mkdir(logdir)\n",
    "except Exception as e:\n",
    "    pass    \n",
    "\n",
    "tfb_callback = tf.keras.callbacks.TensorBoard(logdir)"
   ]
  },
  {
   "cell_type": "markdown",
   "id": "53233c82-445b-41b3-af06-8c242deeabf6",
   "metadata": {},
   "source": [
    "# Loading Dataset"
   ]
  },
  {
   "cell_type": "code",
   "execution_count": 6,
   "id": "40dbb5e9-1347-4247-a199-f802d46c0426",
   "metadata": {},
   "outputs": [],
   "source": [
    "train_dir = 'imgdata_v2/split_dataset/train/'\n",
    "val_dir = 'imgdata_v2/split_dataset/val/'\n",
    "test_dir = 'imgdata_v2/split_dataset/test/'"
   ]
  },
  {
   "cell_type": "code",
   "execution_count": 7,
   "id": "c9095602-2b06-418b-99d3-6a94a6eee244",
   "metadata": {},
   "outputs": [
    {
     "name": "stdout",
     "output_type": "stream",
     "text": [
      "Found 1456 files belonging to 2 classes.\n",
      "Found 415 files belonging to 2 classes.\n"
     ]
    }
   ],
   "source": [
    "train_dataset = tf.keras.utils.image_dataset_from_directory(train_dir, image_size=(256, 256))\n",
    "val_dataset = tf.keras.utils.image_dataset_from_directory(val_dir, image_size=(256, 256))"
   ]
  },
  {
   "cell_type": "code",
   "execution_count": 8,
   "id": "e02dd034-b0fc-4b56-bdc1-1bdd6ee176dd",
   "metadata": {},
   "outputs": [
    {
     "name": "stdout",
     "output_type": "stream",
     "text": [
      "(256, 256, 3)\n",
      "255.0\n",
      "0.0\n"
     ]
    }
   ],
   "source": [
    "print(train_dataset.as_numpy_iterator().next()[0][0].shape)\n",
    "print(train_dataset.as_numpy_iterator().next()[0][0].max())\n",
    "print(train_dataset.as_numpy_iterator().next()[0][0].min())"
   ]
  },
  {
   "cell_type": "code",
   "execution_count": 9,
   "id": "861eb5ab-356c-4235-9766-c829ce826c33",
   "metadata": {},
   "outputs": [],
   "source": [
    "train_data = train_dataset.map(lambda x, y: (x/255, y))\n",
    "val_data = val_dataset.map(lambda x, y: (x/255, y))"
   ]
  },
  {
   "cell_type": "code",
   "execution_count": 10,
   "id": "218d48e0-4834-4039-810b-92dd8fdc2b58",
   "metadata": {},
   "outputs": [
    {
     "name": "stdout",
     "output_type": "stream",
     "text": [
      "(256, 256, 3)\n",
      "1.0\n",
      "0.0\n"
     ]
    }
   ],
   "source": [
    "print(train_data.as_numpy_iterator().next()[0][0].shape)\n",
    "print(train_data.as_numpy_iterator().next()[0][0].max())\n",
    "print(train_data.as_numpy_iterator().next()[0][0].min())"
   ]
  },
  {
   "cell_type": "markdown",
   "id": "5f365a97-8d31-4f06-b230-a903331feca9",
   "metadata": {},
   "source": [
    "# Training Non-Augmented Model"
   ]
  },
  {
   "cell_type": "code",
   "execution_count": 11,
   "id": "6c0d8293-9b50-4fce-a9ee-5df3b0147615",
   "metadata": {
    "scrolled": true
   },
   "outputs": [
    {
     "name": "stdout",
     "output_type": "stream",
     "text": [
      "Epoch 1/30\n",
      "46/46 [==============================] - 16s 213ms/step - loss: 0.8567 - accuracy: 0.5625 - val_loss: 0.6789 - val_accuracy: 0.5205\n",
      "Epoch 2/30\n",
      "46/46 [==============================] - 9s 190ms/step - loss: 0.4658 - accuracy: 0.8139 - val_loss: 0.5401 - val_accuracy: 0.7711\n",
      "Epoch 3/30\n",
      "46/46 [==============================] - 9s 186ms/step - loss: 0.3791 - accuracy: 0.8475 - val_loss: 0.5216 - val_accuracy: 0.7711\n",
      "Epoch 4/30\n",
      "46/46 [==============================] - 9s 187ms/step - loss: 0.3467 - accuracy: 0.8681 - val_loss: 0.4978 - val_accuracy: 0.7831\n",
      "Epoch 5/30\n",
      "46/46 [==============================] - 9s 185ms/step - loss: 0.3411 - accuracy: 0.8668 - val_loss: 0.4009 - val_accuracy: 0.8482\n",
      "Epoch 6/30\n",
      "46/46 [==============================] - 9s 186ms/step - loss: 0.2991 - accuracy: 0.8729 - val_loss: 0.4023 - val_accuracy: 0.8602\n",
      "Epoch 7/30\n",
      "46/46 [==============================] - 9s 187ms/step - loss: 0.2614 - accuracy: 0.8894 - val_loss: 0.3455 - val_accuracy: 0.8747\n",
      "Epoch 8/30\n",
      "46/46 [==============================] - 9s 186ms/step - loss: 0.2598 - accuracy: 0.8929 - val_loss: 0.3620 - val_accuracy: 0.8289\n",
      "Epoch 9/30\n",
      "46/46 [==============================] - 9s 187ms/step - loss: 0.2425 - accuracy: 0.8929 - val_loss: 0.3861 - val_accuracy: 0.8120\n",
      "Epoch 10/30\n",
      "46/46 [==============================] - 9s 187ms/step - loss: 0.2515 - accuracy: 0.8867 - val_loss: 0.3006 - val_accuracy: 0.8747\n",
      "Epoch 11/30\n",
      "46/46 [==============================] - 9s 186ms/step - loss: 0.2169 - accuracy: 0.9093 - val_loss: 0.2587 - val_accuracy: 0.8988\n",
      "Epoch 12/30\n",
      "46/46 [==============================] - 9s 186ms/step - loss: 0.2195 - accuracy: 0.9025 - val_loss: 0.2627 - val_accuracy: 0.8771\n",
      "Epoch 13/30\n",
      "46/46 [==============================] - 9s 184ms/step - loss: 0.1959 - accuracy: 0.9169 - val_loss: 0.2496 - val_accuracy: 0.8867\n",
      "Epoch 14/30\n",
      "46/46 [==============================] - 9s 197ms/step - loss: 0.2033 - accuracy: 0.9135 - val_loss: 0.2529 - val_accuracy: 0.9012\n",
      "Epoch 15/30\n",
      "46/46 [==============================] - 9s 197ms/step - loss: 0.2097 - accuracy: 0.9121 - val_loss: 0.2657 - val_accuracy: 0.8940\n",
      "Epoch 16/30\n",
      "46/46 [==============================] - 9s 185ms/step - loss: 0.1911 - accuracy: 0.9155 - val_loss: 0.2263 - val_accuracy: 0.8940\n",
      "Epoch 17/30\n",
      "46/46 [==============================] - 9s 184ms/step - loss: 0.1932 - accuracy: 0.9176 - val_loss: 0.2437 - val_accuracy: 0.8916\n",
      "Epoch 18/30\n",
      "46/46 [==============================] - 9s 190ms/step - loss: 0.1860 - accuracy: 0.9265 - val_loss: 0.2268 - val_accuracy: 0.8964\n",
      "Epoch 19/30\n",
      "46/46 [==============================] - 10s 212ms/step - loss: 0.1802 - accuracy: 0.9258 - val_loss: 0.2101 - val_accuracy: 0.9277\n",
      "Epoch 20/30\n",
      "46/46 [==============================] - 9s 186ms/step - loss: 0.1644 - accuracy: 0.9272 - val_loss: 0.2122 - val_accuracy: 0.9036\n",
      "Epoch 21/30\n",
      "46/46 [==============================] - 9s 184ms/step - loss: 0.1563 - accuracy: 0.9348 - val_loss: 0.2092 - val_accuracy: 0.9012\n",
      "Epoch 22/30\n",
      "46/46 [==============================] - 9s 185ms/step - loss: 0.1548 - accuracy: 0.9348 - val_loss: 0.2296 - val_accuracy: 0.8843\n",
      "Epoch 23/30\n",
      "46/46 [==============================] - 9s 188ms/step - loss: 0.1547 - accuracy: 0.9313 - val_loss: 0.2878 - val_accuracy: 0.8554\n",
      "Epoch 24/30\n",
      "46/46 [==============================] - 9s 189ms/step - loss: 0.1709 - accuracy: 0.9210 - val_loss: 0.2055 - val_accuracy: 0.8964\n",
      "Epoch 25/30\n",
      "46/46 [==============================] - 9s 185ms/step - loss: 0.1508 - accuracy: 0.9327 - val_loss: 0.2795 - val_accuracy: 0.8554\n",
      "Epoch 26/30\n",
      "46/46 [==============================] - 9s 185ms/step - loss: 0.1488 - accuracy: 0.9368 - val_loss: 0.2117 - val_accuracy: 0.8964\n",
      "Epoch 27/30\n",
      "46/46 [==============================] - 9s 185ms/step - loss: 0.1449 - accuracy: 0.9354 - val_loss: 0.1880 - val_accuracy: 0.9133\n",
      "Epoch 28/30\n",
      "46/46 [==============================] - 9s 188ms/step - loss: 0.1172 - accuracy: 0.9547 - val_loss: 0.1894 - val_accuracy: 0.9181\n",
      "Epoch 29/30\n",
      "46/46 [==============================] - 9s 187ms/step - loss: 0.1382 - accuracy: 0.9478 - val_loss: 0.1874 - val_accuracy: 0.9253\n",
      "Epoch 30/30\n",
      "46/46 [==============================] - 9s 202ms/step - loss: 0.1302 - accuracy: 0.9444 - val_loss: 0.2098 - val_accuracy: 0.8988\n"
     ]
    }
   ],
   "source": [
    "model_fit = model.fit(train_data, \n",
    "                      epochs=30, \n",
    "                      shuffle=True, \n",
    "                      validation_data=val_data, \n",
    "                      callbacks=[tfb_callback])"
   ]
  },
  {
   "cell_type": "markdown",
   "id": "c22e0f9e-39d4-405c-8242-78cfd355f3cf",
   "metadata": {},
   "source": [
    "# Plotting Model Performance"
   ]
  },
  {
   "cell_type": "code",
   "execution_count": 12,
   "id": "1c3af8ff-fd96-4013-9ad0-fa2355b9f899",
   "metadata": {},
   "outputs": [
    {
     "data": {
      "text/plain": [
       "<matplotlib.legend.Legend at 0x1f6a636f0a0>"
      ]
     },
     "execution_count": 12,
     "metadata": {},
     "output_type": "execute_result"
    },
    {
     "data": {
      "image/png": "[encoded data removed]",
      "text/plain": [
       "<Figure size 2000x500 with 2 Axes>"
      ]
     },
     "metadata": {},
     "output_type": "display_data"
    }
   ],
   "source": [
    "fig, axs = plt.subplots(1, 2, figsize=(20,5))\n",
    "\n",
    "axs[0].plot(model_fit.history['loss'], \n",
    "            color='red', \n",
    "            label='Loss')\n",
    "axs[0].plot(model_fit.history['val_loss'], \n",
    "            color='orange', \n",
    "            label='Validation Loss')\n",
    "axs[0].legend(loc='upper right')\n",
    "\n",
    "axs[1].plot(model_fit.history['accuracy'], \n",
    "             color='green', \n",
    "             label='Accuracy')\n",
    "axs[1].plot(model_fit.history['val_accuracy'], \n",
    "             color='teal', \n",
    "             label='Validation Accuracy')\n",
    "axs[1].legend(loc='upper left')"
   ]
  },
  {
   "cell_type": "markdown",
   "id": "72b062b5-5784-41e5-8e7a-5b93b1e40bd1",
   "metadata": {},
   "source": [
    "# Evaluating Model Performance"
   ]
  },
  {
   "cell_type": "code",
   "execution_count": 13,
   "id": "395e6414-3bec-430a-bbdf-38bb2493c365",
   "metadata": {},
   "outputs": [
    {
     "name": "stdout",
     "output_type": "stream",
     "text": [
      "Found 210 files belonging to 2 classes.\n"
     ]
    }
   ],
   "source": [
    "test_dataset = tf.keras.utils.image_dataset_from_directory(test_dir, image_size=(256, 256))"
   ]
  },
  {
   "cell_type": "code",
   "execution_count": 14,
   "id": "ad42001e-cdf1-4fd1-aedc-6870f3c66ba1",
   "metadata": {},
   "outputs": [],
   "source": [
    "test_data = test_dataset.map(lambda x, y: (x/255, y))"
   ]
  },
  {
   "cell_type": "code",
   "execution_count": 15,
   "id": "1cc322b6-80d7-41cf-9eef-2d03706f659a",
   "metadata": {},
   "outputs": [],
   "source": [
    "from tensorflow.keras.metrics import Precision, Recall, BinaryAccuracy, SpecificityAtSensitivity\n",
    "\n",
    "pre = Precision()\n",
    "acc = BinaryAccuracy()\n",
    "rec = Recall()\n",
    "spe = SpecificityAtSensitivity(0.5)"
   ]
  },
  {
   "cell_type": "code",
   "execution_count": 16,
   "id": "4b50ccda-0707-43e2-8359-5229b1f356fc",
   "metadata": {},
   "outputs": [
    {
     "name": "stdout",
     "output_type": "stream",
     "text": [
      "1/1 [==============================] - 0s 140ms/step\n",
      "1/1 [==============================] - 0s 40ms/step\n",
      "1/1 [==============================] - 0s 40ms/step\n",
      "1/1 [==============================] - 0s 40ms/step\n",
      "1/1 [==============================] - 0s 42ms/step\n",
      "1/1 [==============================] - 0s 35ms/step\n",
      "1/1 [==============================] - 1s 528ms/step\n"
     ]
    }
   ],
   "source": [
    "for batch in test_data.as_numpy_iterator():\n",
    "    X, y = batch\n",
    "    y_pred = model.predict(X)\n",
    "    pre.update_state(y, y_pred)\n",
    "    rec.update_state(y, y_pred)\n",
    "    acc.update_state(y, y_pred)\n",
    "    spe.update_state(y, y_pred)"
   ]
  },
  {
   "cell_type": "code",
   "execution_count": 17,
   "id": "acd6b1d4-184b-492d-87b9-b837c22a4982",
   "metadata": {},
   "outputs": [
    {
     "name": "stdout",
     "output_type": "stream",
     "text": [
      "Accuracy\t: 0.89047617\n",
      "Precision\t: 0.84\n",
      "Recall\t\t: 0.9722222\n",
      "Specificity\t: 1.0\n",
      "F1\t\t: 0.9012874734689899\n"
     ]
    }
   ],
   "source": [
    "precision = pre.result().numpy()\n",
    "recall = rec.result().numpy()\n",
    "f1 = 2 * (precision*recall) / (precision+recall)\n",
    "\n",
    "print('Accuracy\\t:', acc.result().numpy())\n",
    "print('Precision\\t:', precision)\n",
    "print('Recall\\t\\t:', recall)\n",
    "print('Specificity\\t:', spe.result().numpy())\n",
    "print('F1\\t\\t:', f1)"
   ]
  },
  {
   "cell_type": "markdown",
   "id": "9ce80220-bdd5-40fa-99e6-b243c2b8e494",
   "metadata": {},
   "source": [
    "# ----------------------------------"
   ]
  }
 ],
 "metadata": {
  "kernelspec": {
   "display_name": "Python 3 (ipykernel)",
   "language": "python",
   "name": "python3"
  },
  "language_info": {
   "codemirror_mode": {
    "name": "ipython",
    "version": 3
   },
   "file_extension": ".py",
   "mimetype": "text/x-python",
   "name": "python",
   "nbconvert_exporter": "python",
   "pygments_lexer": "ipython3",
   "version": "3.10.10"
  }
 },
 "nbformat": 4,
 "nbformat_minor": 5
}
