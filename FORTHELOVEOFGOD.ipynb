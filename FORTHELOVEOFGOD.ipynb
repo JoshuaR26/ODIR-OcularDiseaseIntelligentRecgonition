{
 "cells": [
  {
   "cell_type": "markdown",
   "id": "6e86a343-a6b3-48bd-8566-2cd21d674ff9",
   "metadata": {},
   "source": [
    "# Importing Dependencies"
   ]
  },
  {
   "cell_type": "code",
   "execution_count": 1,
   "id": "089ea76d-47e4-4269-8091-21f2d5f65645",
   "metadata": {},
   "outputs": [],
   "source": [
    "import os\n",
    "import numpy as np\n",
    "\n",
    "import cv2\n",
    "import matplotlib.pylab as plt\n",
    "\n",
    "import tensorflow as tf"
   ]
  },
  {
   "cell_type": "code",
   "execution_count": 2,
   "id": "df997767-efda-492a-afd4-df566a2e4c89",
   "metadata": {},
   "outputs": [],
   "source": [
    "gpus = tf.config.experimental.list_physical_devices('GPU')\n",
    "for gpu in gpus:\n",
    "    tf.config.experimental.set_memory_growth(gpu, True)"
   ]
  },
  {
   "cell_type": "markdown",
   "id": "21ff902a-6f11-42e3-9367-283b8b06c4d6",
   "metadata": {},
   "source": [
    "# Importing Evaluation Metrices "
   ]
  },
  {
   "cell_type": "code",
   "execution_count": 3,
   "id": "e2429dcb-eee8-4702-8bb9-3b9b2c4d8baf",
   "metadata": {},
   "outputs": [],
   "source": [
    "from tensorflow.keras.metrics import Precision, Recall, SpecificityAtSensitivity\n",
    "\n",
    "pre = Precision()\n",
    "rec = Recall()\n",
    "spe = SpecificityAtSensitivity(0.5)"
   ]
  },
  {
   "cell_type": "markdown",
   "id": "253ea79f-e428-4e6c-a321-46ec4c5a8993",
   "metadata": {},
   "source": [
    "# Creating CNN Model"
   ]
  },
  {
   "cell_type": "code",
   "execution_count": 4,
   "id": "cc1437b6-a6b1-4467-85b5-2fc6291371c5",
   "metadata": {},
   "outputs": [],
   "source": [
    "from tensorflow.keras.models import Sequential\n",
    "from tensorflow.keras.layers import Conv2D, MaxPooling2D, Flatten, Dense, Dropout\n",
    "from tensorflow.keras.regularizers import l2"
   ]
  },
  {
   "cell_type": "code",
   "execution_count": 15,
   "id": "954a5cc3-7f07-4079-a606-431b4ce06650",
   "metadata": {},
   "outputs": [
    {
     "name": "stdout",
     "output_type": "stream",
     "text": [
      "Model: \"sequential_2\"\n",
      "_________________________________________________________________\n",
      " Layer (type)                Output Shape              Param #   \n",
      "=================================================================\n",
      " conv2d_4 (Conv2D)           (None, 510, 510, 16)      448       \n",
      "                                                                 \n",
      " max_pooling2d_4 (MaxPooling  (None, 255, 255, 16)     0         \n",
      " 2D)                                                             \n",
      "                                                                 \n",
      " dropout_6 (Dropout)         (None, 255, 255, 16)      0         \n",
      "                                                                 \n",
      " conv2d_5 (Conv2D)           (None, 253, 253, 8)       1160      \n",
      "                                                                 \n",
      " max_pooling2d_5 (MaxPooling  (None, 126, 126, 8)      0         \n",
      " 2D)                                                             \n",
      "                                                                 \n",
      " dropout_7 (Dropout)         (None, 126, 126, 8)       0         \n",
      "                                                                 \n",
      " flatten_2 (Flatten)         (None, 127008)            0         \n",
      "                                                                 \n",
      " dense_4 (Dense)             (None, 256)               32514304  \n",
      "                                                                 \n",
      " dropout_8 (Dropout)         (None, 256)               0         \n",
      "                                                                 \n",
      " dense_5 (Dense)             (None, 1)                 257       \n",
      "                                                                 \n",
      "=================================================================\n",
      "Total params: 32,516,169\n",
      "Trainable params: 32,516,169\n",
      "Non-trainable params: 0\n",
      "_________________________________________________________________\n"
     ]
    }
   ],
   "source": [
    "model = Sequential()\n",
    "\n",
    "model.add(Conv2D(16, (3,3), 1, activation='relu', input_shape=(512,512,3)))\n",
    "model.add(MaxPooling2D())\n",
    "model.add(Dropout(0.4))\n",
    "\n",
    "# model.add(Conv2D(32, (3,3), 1, activation='relu'))\n",
    "# model.add(MaxPooling2D())\n",
    "# model.add(Dropout(0.5))\n",
    "\n",
    "model.add(Conv2D(8, (3,3), 1, activation='relu'))\n",
    "model.add(MaxPooling2D())\n",
    "model.add(Dropout(0.3))\n",
    "\n",
    "model.add(Flatten())\n",
    "\n",
    "model.add(Dense(256, activation='relu'))\n",
    "model.add(Dropout(0.3))\n",
    "\n",
    "model.add(Dense(1, kernel_regularizer=l2(0.001), activation='linear'))\n",
    "\n",
    "model.compile(optimizer='adam', loss='hinge', metrics='accuracy')\n",
    "\n",
    "model.summary()"
   ]
  },
  {
   "cell_type": "code",
   "execution_count": 6,
   "id": "0bf6f788-b01d-4c38-a144-53e22d9597e3",
   "metadata": {},
   "outputs": [],
   "source": [
    "logdir = 'LogDir'\n",
    "\n",
    "try:\n",
    "    os.mkdir(logdir)\n",
    "except Exception as e:\n",
    "    pass    \n",
    "\n",
    "tfb_callback = tf.keras.callbacks.TensorBoard(logdir)"
   ]
  },
  {
   "cell_type": "markdown",
   "id": "53233c82-445b-41b3-af06-8c242deeabf6",
   "metadata": {},
   "source": [
    "# Loading Dataset"
   ]
  },
  {
   "cell_type": "code",
   "execution_count": 7,
   "id": "40dbb5e9-1347-4247-a199-f802d46c0426",
   "metadata": {},
   "outputs": [],
   "source": [
    "train_dir = 'imgdata_v2/split_dataset/train_aug/'\n",
    "val_dir = 'imgdata_v2/split_dataset/val/'\n",
    "test_dir = 'imgdata_v2/split_dataset/test/'"
   ]
  },
  {
   "cell_type": "code",
   "execution_count": 16,
   "id": "c9095602-2b06-418b-99d3-6a94a6eee244",
   "metadata": {},
   "outputs": [
    {
     "name": "stdout",
     "output_type": "stream",
     "text": [
      "Found 7051 files belonging to 2 classes.\n",
      "Found 415 files belonging to 2 classes.\n"
     ]
    }
   ],
   "source": [
    "train_dataset = tf.keras.utils.image_dataset_from_directory(train_dir, image_size=(512, 512))\n",
    "val_dataset = tf.keras.utils.image_dataset_from_directory(val_dir, image_size=(512, 512))"
   ]
  },
  {
   "cell_type": "code",
   "execution_count": 17,
   "id": "e02dd034-b0fc-4b56-bdc1-1bdd6ee176dd",
   "metadata": {},
   "outputs": [
    {
     "name": "stdout",
     "output_type": "stream",
     "text": [
      "(512, 512, 3)\n",
      "255.0\n",
      "0.0\n"
     ]
    }
   ],
   "source": [
    "print(train_dataset.as_numpy_iterator().next()[0][0].shape)\n",
    "print(train_dataset.as_numpy_iterator().next()[0][0].max())\n",
    "print(train_dataset.as_numpy_iterator().next()[0][0].min())"
   ]
  },
  {
   "cell_type": "code",
   "execution_count": 18,
   "id": "861eb5ab-356c-4235-9766-c829ce826c33",
   "metadata": {},
   "outputs": [],
   "source": [
    "train_data = train_dataset.map(lambda x, y: (x/255, y))\n",
    "val_data = val_dataset.map(lambda x, y: (x/255, y))"
   ]
  },
  {
   "cell_type": "code",
   "execution_count": 19,
   "id": "218d48e0-4834-4039-810b-92dd8fdc2b58",
   "metadata": {},
   "outputs": [
    {
     "name": "stdout",
     "output_type": "stream",
     "text": [
      "(512, 512, 3)\n",
      "1.0\n",
      "0.0\n"
     ]
    }
   ],
   "source": [
    "print(train_data.as_numpy_iterator().next()[0][0].shape)\n",
    "print(train_data.as_numpy_iterator().next()[0][0].max())\n",
    "print(train_data.as_numpy_iterator().next()[0][0].min())"
   ]
  },
  {
   "cell_type": "markdown",
   "id": "5f365a97-8d31-4f06-b230-a903331feca9",
   "metadata": {},
   "source": [
    "# Training Non-Augmented Model"
   ]
  },
  {
   "cell_type": "code",
   "execution_count": null,
   "id": "6c0d8293-9b50-4fce-a9ee-5df3b0147615",
   "metadata": {
    "scrolled": true
   },
   "outputs": [
    {
     "name": "stdout",
     "output_type": "stream",
     "text": [
      "Epoch 1/30\n",
      "221/221 [==============================] - 22s 94ms/step - loss: 1.7625 - accuracy: 0.7657 - val_loss: 0.7592 - val_accuracy: 0.8096\n",
      "Epoch 2/30\n",
      "221/221 [==============================] - 21s 92ms/step - loss: 0.3554 - accuracy: 0.8446 - val_loss: 0.7385 - val_accuracy: 0.8193\n",
      "Epoch 3/30\n",
      "193/221 [=========================>....] - ETA: 2s - loss: 0.2916 - accuracy: 0.8706"
     ]
    }
   ],
   "source": [
    "model_fit = model.fit(train_data, \n",
    "                      epochs=30,\n",
    "                      # batch_size=16,\n",
    "                      shuffle=True, \n",
    "                      validation_data=val_data, \n",
    "                      callbacks=[tfb_callback])"
   ]
  },
  {
   "cell_type": "markdown",
   "id": "c22e0f9e-39d4-405c-8242-78cfd355f3cf",
   "metadata": {},
   "source": [
    "# Plotting Model Performance"
   ]
  },
  {
   "cell_type": "code",
   "execution_count": null,
   "id": "1c3af8ff-fd96-4013-9ad0-fa2355b9f899",
   "metadata": {},
   "outputs": [],
   "source": [
    "fig, axs = plt.subplots(1, 2, figsize=(20,5))\n",
    "\n",
    "axs[0].plot(model_fit.history['loss'], \n",
    "            color='red', \n",
    "            label='Loss')\n",
    "axs[0].plot(model_fit.history['val_loss'], \n",
    "            color='orange', \n",
    "            label='Validation Loss')\n",
    "axs[0].legend(loc='upper right')\n",
    "\n",
    "axs[1].plot(model_fit.history['accuracy'], \n",
    "             color='green', \n",
    "             label='Accuracy')\n",
    "axs[1].plot(model_fit.history['val_accuracy'], \n",
    "             color='teal', \n",
    "             label='Validation Accuracy')\n",
    "axs[1].legend(loc='upper left')"
   ]
  },
  {
   "cell_type": "markdown",
   "id": "72b062b5-5784-41e5-8e7a-5b93b1e40bd1",
   "metadata": {},
   "source": [
    "# Evaluating Model Performance"
   ]
  },
  {
   "cell_type": "code",
   "execution_count": null,
   "id": "395e6414-3bec-430a-bbdf-38bb2493c365",
   "metadata": {},
   "outputs": [],
   "source": [
    "test_dataset = tf.keras.utils.image_dataset_from_directory(test_dir, image_size=(256, 256))"
   ]
  },
  {
   "cell_type": "code",
   "execution_count": null,
   "id": "ad42001e-cdf1-4fd1-aedc-6870f3c66ba1",
   "metadata": {},
   "outputs": [],
   "source": [
    "test_data = test_dataset.map(lambda x, y: (x/255, y))"
   ]
  },
  {
   "cell_type": "code",
   "execution_count": null,
   "id": "1cc322b6-80d7-41cf-9eef-2d03706f659a",
   "metadata": {},
   "outputs": [],
   "source": [
    "from tensorflow.keras.metrics import Precision, Recall, BinaryAccuracy, SpecificityAtSensitivity\n",
    "\n",
    "pre = Precision()\n",
    "acc = BinaryAccuracy()\n",
    "rec = Recall()\n",
    "spe = SpecificityAtSensitivity(0.5)"
   ]
  },
  {
   "cell_type": "code",
   "execution_count": null,
   "id": "4b50ccda-0707-43e2-8359-5229b1f356fc",
   "metadata": {},
   "outputs": [],
   "source": [
    "for batch in test_data.as_numpy_iterator():\n",
    "    X, y = batch\n",
    "    y_pred = model.predict(X)\n",
    "    pre.update_state(y, y_pred)\n",
    "    rec.update_state(y, y_pred)\n",
    "    acc.update_state(y, y_pred)\n",
    "    spe.update_state(y, y_pred)"
   ]
  },
  {
   "cell_type": "code",
   "execution_count": null,
   "id": "acd6b1d4-184b-492d-87b9-b837c22a4982",
   "metadata": {},
   "outputs": [],
   "source": [
    "precision = pre.result().numpy()\n",
    "recall = rec.result().numpy()\n",
    "f1 = 2 * (precision*recall) / (precision+recall)\n",
    "\n",
    "print('Accuracy\\t:', acc.result().numpy())\n",
    "print('Precision\\t:', precision)\n",
    "print('Recall\\t\\t:', recall)\n",
    "print('Specificity\\t:', spe.result().numpy())\n",
    "print('F1\\t\\t:', f1)"
   ]
  },
  {
   "cell_type": "markdown",
   "id": "9ce80220-bdd5-40fa-99e6-b243c2b8e494",
   "metadata": {},
   "source": [
    "# ----------------------------------"
   ]
  }
 ],
 "metadata": {
  "kernelspec": {
   "display_name": "Python 3 (ipykernel)",
   "language": "python",
   "name": "python3"
  },
  "language_info": {
   "codemirror_mode": {
    "name": "ipython",
    "version": 3
   },
   "file_extension": ".py",
   "mimetype": "text/x-python",
   "name": "python",
   "nbconvert_exporter": "python",
   "pygments_lexer": "ipython3",
   "version": "3.10.10"
  }
 },
 "nbformat": 4,
 "nbformat_minor": 5
}
