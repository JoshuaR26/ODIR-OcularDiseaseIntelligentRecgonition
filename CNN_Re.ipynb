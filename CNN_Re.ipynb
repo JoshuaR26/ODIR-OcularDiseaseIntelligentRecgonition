{
 "cells": [
  {
   "cell_type": "markdown",
   "id": "9319286a-88ed-461c-b247-4678c0f282df",
   "metadata": {},
   "source": [
    "## Importing Dependencies"
   ]
  },
  {
   "cell_type": "code",
   "execution_count": 1,
   "id": "0dd8cc40-2aea-4ff7-b882-9a435f97a5e0",
   "metadata": {},
   "outputs": [],
   "source": [
    "import os\n",
    "import numpy as np\n",
    "\n",
    "import cv2\n",
    "import matplotlib.pylab as plt\n",
    "\n",
    "import tensorflow as tf"
   ]
  },
  {
   "cell_type": "code",
   "execution_count": 4,
   "id": "ac372b27-4540-45a4-b0cd-9011a5c78eac",
   "metadata": {},
   "outputs": [],
   "source": [
    "gpus = tf.config.experimental.list_physical_devices('GPU')\n",
    "for gpu in gpus:\n",
    "    tf.config.experimental.set_memory_growth(gpu, True)"
   ]
  },
  {
   "cell_type": "markdown",
   "id": "135a33ee-dd0e-4081-a82a-c8687146f8a9",
   "metadata": {},
   "source": [
    "## Loading Datasets"
   ]
  },
  {
   "cell_type": "code",
   "execution_count": 5,
   "id": "c1052ab0-21bb-4d88-8f3d-f68da270c074",
   "metadata": {},
   "outputs": [],
   "source": [
    "train_dir = 'imgdata_v2/split_dataset/train_aug/'\n",
    "test_dir = 'imgdata_v2/split_dataset/test/'\n",
    "val_dir = 'imgdata_v2/split_dataset/val/'"
   ]
  },
  {
   "cell_type": "code",
   "execution_count": 25,
   "id": "93e9d3c8-9d97-4174-9abb-a83140830526",
   "metadata": {},
   "outputs": [
    {
     "name": "stdout",
     "output_type": "stream",
     "text": [
      "Found 7051 files belonging to 2 classes.\n",
      "Found 415 files belonging to 2 classes.\n"
     ]
    }
   ],
   "source": [
    "train_dataset = tf.keras.utils.image_dataset_from_directory(train_dir, image_size=(256, 256))\n",
    "val_dataset = tf.keras.utils.image_dataset_from_directory(val_dir, image_size=(256, 256))"
   ]
  },
  {
   "cell_type": "markdown",
   "id": "98a76965-b263-4258-82b1-ce615c04de12",
   "metadata": {},
   "source": [
    "## Scaling Dataset"
   ]
  },
  {
   "cell_type": "code",
   "execution_count": 20,
   "id": "1aff7a79-d4ad-44d2-bb2b-84f5cd28af15",
   "metadata": {},
   "outputs": [
    {
     "data": {
      "text/plain": [
       "255.0"
      ]
     },
     "execution_count": 20,
     "metadata": {},
     "output_type": "execute_result"
    }
   ],
   "source": [
    "train_dataset.as_numpy_iterator().next()[0][0].max()"
   ]
  },
  {
   "cell_type": "code",
   "execution_count": 21,
   "id": "e03a170e-a3d7-40cf-a413-fdd810434dcf",
   "metadata": {},
   "outputs": [],
   "source": [
    "train_data = train_dataset.map(lambda x, y: (x/255, y))"
   ]
  },
  {
   "cell_type": "code",
   "execution_count": 24,
   "id": "fa90edae-fd50-4ead-b323-4c5c186d9cea",
   "metadata": {},
   "outputs": [
    {
     "data": {
      "text/plain": [
       "1.0"
      ]
     },
     "execution_count": 24,
     "metadata": {},
     "output_type": "execute_result"
    }
   ],
   "source": [
    "train_data.as_numpy_iterator().next()[0][0].max()"
   ]
  },
  {
   "cell_type": "code",
   "execution_count": 26,
   "id": "73bb2cc9-0a8a-41d3-a963-d30ffbb54bf3",
   "metadata": {},
   "outputs": [],
   "source": [
    "val_data = val_dataset.map(lambda x, y: (x/255, y))"
   ]
  },
  {
   "cell_type": "markdown",
   "id": "299c5fe6-b5f9-4431-a06c-842e18681c37",
   "metadata": {},
   "source": [
    "## CNN Model Architecture"
   ]
  },
  {
   "cell_type": "code",
   "execution_count": 130,
   "id": "2b708ae4-b467-4ff9-8f80-df1e7961c204",
   "metadata": {},
   "outputs": [],
   "source": [
    "from tensorflow.keras.models import Sequential\n",
    "from tensorflow.keras.layers import Conv2D, MaxPooling2D, Flatten, Dense, Dropout\n",
    "\n",
    "model = Sequential()\n",
    "\n",
    "model.add(Conv2D(16,(3,3), 3, activation='relu', input_shape=(256, 256, 3)))\n",
    "model.add(MaxPooling2D())\n",
    "model.add(Dropout(0.5))\n",
    "\n",
    "model.add(Conv2D(16, (3,3), 1, activation='relu'))\n",
    "model.add(MaxPooling2D())\n",
    "model.add(Dropout(0.5))\n",
    "\n",
    "model.add(Conv2D(8, (3,3), 1, activation='relu'))\n",
    "model.add(MaxPooling2D())\n",
    "model.add(Dropout(0.5))\n",
    "\n",
    "model.add(Flatten())\n",
    "model.add(Dense(256, activation='relu'))\n",
    "model.add(Dropout(0.1))\n",
    "model.add(Dense(1, activation='sigmoid'))\n",
    "\n",
    "model.compile(optimizer=tf.optimizers.Adam(), loss=tf.losses.BinaryCrossentropy(), metrics=['accuracy'])\n",
    "# model.summary()"
   ]
  },
  {
   "cell_type": "code",
   "execution_count": 32,
   "id": "4eedc3da-3e93-4bb1-986d-7fcfbda50de7",
   "metadata": {},
   "outputs": [],
   "source": [
    "logdir = 'LogDir'\n",
    "\n",
    "try:\n",
    "    os.mkdir(logdir)\n",
    "except Exception as e:\n",
    "    pass    \n",
    "\n",
    "tfb_callback = tf.keras.callbacks.TensorBoard(logdir)"
   ]
  },
  {
   "cell_type": "code",
   "execution_count": 131,
   "id": "3b59b881-4fa1-402f-8f2f-657853796b02",
   "metadata": {
    "scrolled": true
   },
   "outputs": [
    {
     "name": "stdout",
     "output_type": "stream",
     "text": [
      "Epoch 1/30\n",
      "221/221 [==============================] - 5s 19ms/step - loss: 0.5191 - accuracy: 0.7219 - val_loss: 0.4444 - val_accuracy: 0.8482\n",
      "Epoch 2/30\n",
      "221/221 [==============================] - 4s 18ms/step - loss: 0.3153 - accuracy: 0.8770 - val_loss: 0.3815 - val_accuracy: 0.8506\n",
      "Epoch 3/30\n",
      "221/221 [==============================] - 4s 18ms/step - loss: 0.2851 - accuracy: 0.8857 - val_loss: 0.2889 - val_accuracy: 0.8892\n",
      "Epoch 4/30\n",
      "221/221 [==============================] - 4s 18ms/step - loss: 0.2440 - accuracy: 0.9020 - val_loss: 0.2437 - val_accuracy: 0.9133\n",
      "Epoch 5/30\n",
      "221/221 [==============================] - 4s 18ms/step - loss: 0.2340 - accuracy: 0.9058 - val_loss: 0.2437 - val_accuracy: 0.9084\n",
      "Epoch 6/30\n",
      "221/221 [==============================] - 4s 18ms/step - loss: 0.2124 - accuracy: 0.9128 - val_loss: 0.2178 - val_accuracy: 0.9108\n",
      "Epoch 7/30\n",
      "221/221 [==============================] - 4s 18ms/step - loss: 0.2062 - accuracy: 0.9160 - val_loss: 0.2008 - val_accuracy: 0.9205\n",
      "Epoch 8/30\n",
      "221/221 [==============================] - 4s 18ms/step - loss: 0.2175 - accuracy: 0.9098 - val_loss: 0.1800 - val_accuracy: 0.9229\n",
      "Epoch 9/30\n",
      "221/221 [==============================] - 4s 18ms/step - loss: 0.1920 - accuracy: 0.9182 - val_loss: 0.1747 - val_accuracy: 0.9277\n",
      "Epoch 10/30\n",
      "221/221 [==============================] - 4s 18ms/step - loss: 0.1868 - accuracy: 0.9230 - val_loss: 0.1845 - val_accuracy: 0.9181\n",
      "Epoch 11/30\n",
      "221/221 [==============================] - 4s 18ms/step - loss: 0.1817 - accuracy: 0.9271 - val_loss: 0.1665 - val_accuracy: 0.9349\n",
      "Epoch 12/30\n",
      "221/221 [==============================] - 4s 19ms/step - loss: 0.1829 - accuracy: 0.9258 - val_loss: 0.1680 - val_accuracy: 0.9398\n",
      "Epoch 13/30\n",
      "221/221 [==============================] - 4s 19ms/step - loss: 0.1762 - accuracy: 0.9278 - val_loss: 0.1605 - val_accuracy: 0.9446\n",
      "Epoch 14/30\n",
      "221/221 [==============================] - 4s 18ms/step - loss: 0.1731 - accuracy: 0.9267 - val_loss: 0.1535 - val_accuracy: 0.9301\n",
      "Epoch 15/30\n",
      "221/221 [==============================] - 5s 20ms/step - loss: 0.1615 - accuracy: 0.9328 - val_loss: 0.1607 - val_accuracy: 0.9205\n",
      "Epoch 16/30\n",
      "221/221 [==============================] - 4s 19ms/step - loss: 0.1643 - accuracy: 0.9324 - val_loss: 0.1484 - val_accuracy: 0.9373\n",
      "Epoch 17/30\n",
      "221/221 [==============================] - 4s 18ms/step - loss: 0.1653 - accuracy: 0.9326 - val_loss: 0.1473 - val_accuracy: 0.9373\n",
      "Epoch 18/30\n",
      "221/221 [==============================] - 4s 18ms/step - loss: 0.1559 - accuracy: 0.9375 - val_loss: 0.1430 - val_accuracy: 0.9422\n",
      "Epoch 19/30\n",
      "221/221 [==============================] - 4s 18ms/step - loss: 0.1522 - accuracy: 0.9410 - val_loss: 0.1498 - val_accuracy: 0.9325\n",
      "Epoch 20/30\n",
      "221/221 [==============================] - 4s 18ms/step - loss: 0.1448 - accuracy: 0.9421 - val_loss: 0.1632 - val_accuracy: 0.9229\n",
      "Epoch 21/30\n",
      "221/221 [==============================] - 4s 19ms/step - loss: 0.1500 - accuracy: 0.9420 - val_loss: 0.1424 - val_accuracy: 0.9373\n",
      "Epoch 22/30\n",
      "221/221 [==============================] - 4s 20ms/step - loss: 0.1450 - accuracy: 0.9450 - val_loss: 0.1421 - val_accuracy: 0.9373\n",
      "Epoch 23/30\n",
      "221/221 [==============================] - 4s 18ms/step - loss: 0.1320 - accuracy: 0.9464 - val_loss: 0.1446 - val_accuracy: 0.9422\n",
      "Epoch 24/30\n",
      "221/221 [==============================] - 4s 18ms/step - loss: 0.1393 - accuracy: 0.9447 - val_loss: 0.1397 - val_accuracy: 0.9470\n",
      "Epoch 25/30\n",
      "221/221 [==============================] - 4s 18ms/step - loss: 0.1351 - accuracy: 0.9471 - val_loss: 0.1368 - val_accuracy: 0.9470\n",
      "Epoch 26/30\n",
      "221/221 [==============================] - 4s 18ms/step - loss: 0.1345 - accuracy: 0.9504 - val_loss: 0.1443 - val_accuracy: 0.9373\n",
      "Epoch 27/30\n",
      "221/221 [==============================] - 4s 18ms/step - loss: 0.1309 - accuracy: 0.9498 - val_loss: 0.1445 - val_accuracy: 0.9398\n",
      "Epoch 28/30\n",
      "221/221 [==============================] - 4s 18ms/step - loss: 0.1349 - accuracy: 0.9447 - val_loss: 0.1422 - val_accuracy: 0.9373\n",
      "Epoch 29/30\n",
      "221/221 [==============================] - 4s 18ms/step - loss: 0.1234 - accuracy: 0.9472 - val_loss: 0.1413 - val_accuracy: 0.9494\n",
      "Epoch 30/30\n",
      "221/221 [==============================] - 4s 18ms/step - loss: 0.1281 - accuracy: 0.9516 - val_loss: 0.1485 - val_accuracy: 0.9518\n"
     ]
    }
   ],
   "source": [
    "model_fit = model.fit(train_data, \n",
    "                      epochs=30, \n",
    "                      shuffle=True, \n",
    "                      validation_data=val_data, \n",
    "                      callbacks=[tfb_callback])"
   ]
  },
  {
   "cell_type": "markdown",
   "id": "72e39a4f-40e2-415a-b6e1-e2820e912ead",
   "metadata": {},
   "source": [
    "## Model Performance "
   ]
  },
  {
   "cell_type": "code",
   "execution_count": 133,
   "id": "566dcf5f-3f2b-47ee-9967-59d889afd5c6",
   "metadata": {},
   "outputs": [
    {
     "data": {
      "text/plain": [
       "<matplotlib.legend.Legend at 0x2134e24a500>"
      ]
     },
     "execution_count": 133,
     "metadata": {},
     "output_type": "execute_result"
    },
    {
     "data": {
      "image/png": "[encoded data removed]",
      "text/plain": [
       "<Figure size 2000x500 with 2 Axes>"
      ]
     },
     "metadata": {},
     "output_type": "display_data"
    }
   ],
   "source": [
    "fig, axs = plt.subplots(1, 2, figsize=(20,5))\n",
    "axs[0].plot(model_fit.history['loss'], color='red', label='Loss')\n",
    "axs[0].plot(model_fit.history['val_loss'], color='orange', label='Validation Loss')\n",
    "axs[0].legend(loc='upper right')\n",
    "\n",
    "axs[1].plot(model_fit.history['accuracy'], \n",
    "             color='green', \n",
    "             label='Accuracy')\n",
    "axs[1].plot(model_fit.history['val_accuracy'], \n",
    "             color='teal', \n",
    "             label='Validation Accuracy')\n",
    "axs[1].legend(loc='upper left')"
   ]
  },
  {
   "cell_type": "markdown",
   "id": "6335d7fb-36b8-4f18-8432-c46525998e12",
   "metadata": {},
   "source": [
    "## Exporting Model"
   ]
  },
  {
   "cell_type": "code",
   "execution_count": 183,
   "id": "7469e1d4-37d0-4e5c-bb20-1684f7bbc715",
   "metadata": {},
   "outputs": [],
   "source": [
    "from keras.models import save_model, load_model\n",
    "\n",
    "model.save(os.path.join('models_Reboot/','CNN_Re.h5'))"
   ]
  },
  {
   "cell_type": "code",
   "execution_count": 184,
   "id": "ed77cb93-4fe4-41b4-8929-907bc8396227",
   "metadata": {},
   "outputs": [],
   "source": [
    "Model = load_model(os.path.join('models_Reboot/','CNN_Re.h5'))"
   ]
  },
  {
   "cell_type": "code",
   "execution_count": 188,
   "id": "17d35c4e-1729-44fb-9107-358498e7f9d6",
   "metadata": {},
   "outputs": [
    {
     "name": "stdout",
     "output_type": "stream",
     "text": [
      "Model: \"sequential_38\"\n",
      "_________________________________________________________________\n",
      " Layer (type)                Output Shape              Param #   \n",
      "=================================================================\n",
      " conv2d_85 (Conv2D)          (None, 85, 85, 16)        448       \n",
      "                                                                 \n",
      " max_pooling2d_83 (MaxPoolin  (None, 42, 42, 16)       0         \n",
      " g2D)                                                            \n",
      "                                                                 \n",
      " dropout_85 (Dropout)        (None, 42, 42, 16)        0         \n",
      "                                                                 \n",
      " conv2d_86 (Conv2D)          (None, 40, 40, 16)        2320      \n",
      "                                                                 \n",
      " max_pooling2d_84 (MaxPoolin  (None, 20, 20, 16)       0         \n",
      " g2D)                                                            \n",
      "                                                                 \n",
      " dropout_86 (Dropout)        (None, 20, 20, 16)        0         \n",
      "                                                                 \n",
      " conv2d_87 (Conv2D)          (None, 18, 18, 8)         1160      \n",
      "                                                                 \n",
      " max_pooling2d_85 (MaxPoolin  (None, 9, 9, 8)          0         \n",
      " g2D)                                                            \n",
      "                                                                 \n",
      " dropout_87 (Dropout)        (None, 9, 9, 8)           0         \n",
      "                                                                 \n",
      " flatten_36 (Flatten)        (None, 648)               0         \n",
      "                                                                 \n",
      " dense_70 (Dense)            (None, 256)               166144    \n",
      "                                                                 \n",
      " dropout_88 (Dropout)        (None, 256)               0         \n",
      "                                                                 \n",
      " dense_71 (Dense)            (None, 1)                 257       \n",
      "                                                                 \n",
      "=================================================================\n",
      "Total params: 170,329\n",
      "Trainable params: 170,329\n",
      "Non-trainable params: 0\n",
      "_________________________________________________________________\n"
     ]
    }
   ],
   "source": [
    "Model.summary()"
   ]
  },
  {
   "cell_type": "markdown",
   "id": "87a16892-d2b3-4fea-93c7-f2fe829dd495",
   "metadata": {},
   "source": [
    "## Evaluating Model"
   ]
  },
  {
   "cell_type": "code",
   "execution_count": 134,
   "id": "b5df5fce-aa25-471d-a3a7-6c81d2a53328",
   "metadata": {},
   "outputs": [
    {
     "name": "stdout",
     "output_type": "stream",
     "text": [
      "Found 210 files belonging to 2 classes.\n"
     ]
    }
   ],
   "source": [
    "test_dataset = tf.keras.utils.image_dataset_from_directory(test_dir, image_size=(256, 256))"
   ]
  },
  {
   "cell_type": "code",
   "execution_count": 135,
   "id": "cb7c8f7b-0d3a-4388-9706-28d0d481d9cf",
   "metadata": {},
   "outputs": [],
   "source": [
    "test_data = test_dataset.map(lambda x, y : (x/255, y))"
   ]
  },
  {
   "cell_type": "code",
   "execution_count": 170,
   "id": "2387c6d0-b3d9-4849-8e9d-128d3e4f870c",
   "metadata": {},
   "outputs": [],
   "source": [
    "from tensorflow.keras.metrics import Precision, Recall, BinaryAccuracy\n",
    "\n",
    "pre = Precision()\n",
    "acc = BinaryAccuracy()\n",
    "rec = Recall()"
   ]
  },
  {
   "cell_type": "code",
   "execution_count": 185,
   "id": "cb5a3fbb-60b3-4429-9aff-51b15bd86f69",
   "metadata": {},
   "outputs": [
    {
     "name": "stdout",
     "output_type": "stream",
     "text": [
      "1/1 [==============================] - 0s 97ms/step\n",
      "1/1 [==============================] - 0s 43ms/step\n",
      "1/1 [==============================] - 0s 42ms/step\n",
      "1/1 [==============================] - 0s 41ms/step\n",
      "1/1 [==============================] - 0s 34ms/step\n",
      "1/1 [==============================] - 0s 34ms/step\n",
      "1/1 [==============================] - 0s 91ms/step\n"
     ]
    }
   ],
   "source": [
    "for batch in test_data.as_numpy_iterator():\n",
    "    X, y = batch\n",
    "    y_pred = Model.predict(X)\n",
    "    \n",
    "    acc.update_state(y, y_pred)\n",
    "    pre.update_state(y, y_pred)\n",
    "    rec.update_state(y, y_pred)"
   ]
  },
  {
   "cell_type": "code",
   "execution_count": 187,
   "id": "ef6af3bf-5e07-45db-936a-cdac2024920b",
   "metadata": {},
   "outputs": [
    {
     "name": "stdout",
     "output_type": "stream",
     "text": [
      "Accuracy\t: 0.98095\n",
      "Precision\t: 0.98148\n",
      "Recall\t\t: 0.98148\n",
      "F1\t\t: 0.98148\n"
     ]
    }
   ],
   "source": [
    "accuracy = acc.result().numpy()\n",
    "precision = pre.result().numpy()\n",
    "recall = rec.result().numpy()\n",
    "f1 = 2 * (precision*recall) / (precision+recall)\n",
    "\n",
    "print('Accuracy\\t:', round(accuracy,5))\n",
    "print('Precision\\t:', round(precision,5))\n",
    "print('Recall\\t\\t:', round(recall,5))\n",
    "print('F1\\t\\t:', round(f1,5))"
   ]
  }
 ],
 "metadata": {
  "kernelspec": {
   "display_name": "Python 3 (ipykernel)",
   "language": "python",
   "name": "python3"
  },
  "language_info": {
   "codemirror_mode": {
    "name": "ipython",
    "version": 3
   },
   "file_extension": ".py",
   "mimetype": "text/x-python",
   "name": "python",
   "nbconvert_exporter": "python",
   "pygments_lexer": "ipython3",
   "version": "3.10.10"
  }
 },
 "nbformat": 4,
 "nbformat_minor": 5
}
