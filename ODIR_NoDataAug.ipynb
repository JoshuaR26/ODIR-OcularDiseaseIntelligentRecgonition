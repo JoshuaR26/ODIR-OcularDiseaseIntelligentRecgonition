{
 "cells": [
  {
   "cell_type": "markdown",
   "id": "8e76ab90-3bd5-4743-a304-1a15805c6579",
   "metadata": {},
   "source": [
    "# Ocular Disease Intelligent Recognition (ODIR)\n",
    "## Using Convolutional Neural Network to Predict Ocular Diseases\n",
    "\n",
    "Project by: \n",
    "    22BAI1213 Joshua S Raju, 22BRS1372 Md Rameez Haider, 22BAI1427 Shubham Yadav, 22BAI1425 Anton K Sam\n",
    "\n",
    "This particular CNN model aims to predict three types of Ocular Diseases:\n",
    "1. Cataract\n",
    "\n",
    "Dataset : https://www.kaggle.com/datasets/andrewmvd/ocular-disease-recognition-odir5k"
   ]
  },
  {
   "cell_type": "markdown",
   "id": "364bac1b-02c4-4c38-b8ae-2dc3dfc01d91",
   "metadata": {},
   "source": [
    "## Importing Dependencies"
   ]
  },
  {
   "cell_type": "code",
   "execution_count": 1,
   "id": "2c71f8c6-b20c-4c20-b49f-9f0639f4f81c",
   "metadata": {},
   "outputs": [],
   "source": [
    "import numpy as np\n",
    "import os\n",
    "\n",
    "import imghdr\n",
    "\n",
    "import cv2\n",
    "import matplotlib.pyplot as plt\n",
    "\n",
    "import tensorflow as tf"
   ]
  },
  {
   "cell_type": "code",
   "execution_count": 2,
   "id": "f2bd7e12-5397-47b6-90f6-3d26b92a8bef",
   "metadata": {
    "scrolled": true
   },
   "outputs": [
    {
     "name": "stdout",
     "output_type": "stream",
     "text": [
      "[PhysicalDevice(name='/physical_device:GPU:0', device_type='GPU')]\n"
     ]
    }
   ],
   "source": [
    "gpus = tf.config.experimental.list_physical_devices('GPU')\n",
    "print(gpus)\n",
    "for gpu in gpus:\n",
    "    tf.config.experimental.set_memory_growth(gpu, True)"
   ]
  },
  {
   "cell_type": "markdown",
   "id": "1d0c491c-2f74-4581-8c39-18c8cb5655e5",
   "metadata": {},
   "source": [
    "## Reading Image Data"
   ]
  },
  {
   "cell_type": "code",
   "execution_count": 3,
   "id": "048f6730-a855-4393-aff3-a531a6b7b08b",
   "metadata": {},
   "outputs": [
    {
     "ename": "FileNotFoundError",
     "evalue": "[WinError 3] The system cannot find the path specified: 'im'",
     "output_type": "error",
     "traceback": [
      "\u001b[1;31m---------------------------------------------------------------------------\u001b[0m",
      "\u001b[1;31mFileNotFoundError\u001b[0m                         Traceback (most recent call last)",
      "Cell \u001b[1;32mIn[3], line 2\u001b[0m\n\u001b[0;32m      1\u001b[0m data_dir \u001b[38;5;241m=\u001b[39m \u001b[38;5;124m'\u001b[39m\u001b[38;5;124mim\u001b[39m\u001b[38;5;124m'\u001b[39m\n\u001b[1;32m----> 2\u001b[0m \u001b[43mos\u001b[49m\u001b[38;5;241;43m.\u001b[39;49m\u001b[43mlistdir\u001b[49m\u001b[43m(\u001b[49m\u001b[43mdata_dir\u001b[49m\u001b[43m)\u001b[49m\n",
      "\u001b[1;31mFileNotFoundError\u001b[0m: [WinError 3] The system cannot find the path specified: 'im'"
     ]
    }
   ],
   "source": [
    "data_dir = 'imgdata_v2'\n",
    "os.listdir(data_dir)"
   ]
  },
  {
   "cell_type": "markdown",
   "id": "7cb9a926-2c5f-4ce2-a4f1-98658b67faed",
   "metadata": {},
   "source": [
    "img_exts = ['jpeg',  'jpg', 'png']\n",
    "img_exts"
   ]
  },
  {
   "cell_type": "code",
   "execution_count": null,
   "id": "245c3943-d9d0-4025-ac8c-2bf935fadbe9",
   "metadata": {},
   "outputs": [],
   "source": [
    "for image_class in os.listdir(data_dir):\n",
    "    for image in os.listdir(os.path.join(data_dir, image_class)):\n",
    "        img_path = os.path.join(data_dir, image_class, image)\n",
    "        try:\n",
    "            img = cv2.imread(img_path)\n",
    "            ext = imghdr.what(img_path)\n",
    "            if ext not in img_exts:\n",
    "                print('Image not in appropriate fromat {}'.format(img_path))\n",
    "                os.remove(img_path)\n",
    "        except Exception as e:\n",
    "            print('Issue with the image {}'.format(img_path))"
   ]
  },
  {
   "cell_type": "code",
   "execution_count": null,
   "id": "66643b0f-22c7-4cb0-916a-ebfda2099334",
   "metadata": {},
   "outputs": [],
   "source": [
    "classes = ['Cataract', 'Normal']\n",
    "classes"
   ]
  },
  {
   "cell_type": "code",
   "execution_count": null,
   "id": "3c04cc38-049b-455e-8799-8ef0d0c026da",
   "metadata": {},
   "outputs": [],
   "source": [
    "## Classifying Image Data into a Classified Image Dataset"
   ]
  },
  {
   "cell_type": "code",
   "execution_count": null,
   "id": "2738a776-4f1c-4bfe-984a-197f2caf6366",
   "metadata": {},
   "outputs": [],
   "source": [
    "data = tf.keras.utils.image_dataset_from_directory(data_dir)"
   ]
  },
  {
   "cell_type": "code",
   "execution_count": null,
   "id": "9c5eb644-7f42-4499-88ea-8c3c5ed07ed6",
   "metadata": {},
   "outputs": [],
   "source": [
    "batch = data.as_numpy_iterator().next()\n",
    "len(batch)"
   ]
  },
  {
   "cell_type": "markdown",
   "id": "aa127c82-4815-4b51-a18e-d89b81be22f5",
   "metadata": {},
   "source": [
    "## Displaying Images from Dataset"
   ]
  },
  {
   "cell_type": "code",
   "execution_count": null,
   "id": "bcbd49c4-1089-4d89-a49b-2a1f687dae7f",
   "metadata": {},
   "outputs": [],
   "source": [
    "fig, axs = plt.subplots(5,5, figsize=(15,15))\n",
    "for idx, img in enumerate(batch[0][:25]):\n",
    "    row = idx // 5\n",
    "    col = idx % 5\n",
    "    axs[row, col].imshow(img.astype(int))\n",
    "    axs[row, col].axis('off')\n",
    "    axs[row, col].set_title(classes[batch[1][idx]], fontsize = 10)\n",
    "    fig.suptitle('BATCH IMAGES', fontsize=20)"
   ]
  },
  {
   "cell_type": "markdown",
   "id": "11dcddcf-e7ed-4ce9-a3c0-2e9de69a955e",
   "metadata": {},
   "source": [
    "## Image Normalization"
   ]
  },
  {
   "cell_type": "code",
   "execution_count": null,
   "id": "cab34db7-bfe8-4a2b-8648-cb973e13fd06",
   "metadata": {},
   "outputs": [],
   "source": [
    "data.as_numpy_iterator().next()[0].max(), data.as_numpy_iterator().next()[0].min()"
   ]
  },
  {
   "cell_type": "code",
   "execution_count": null,
   "id": "6afa0292-f87d-4f7e-b780-6704bb542667",
   "metadata": {},
   "outputs": [],
   "source": [
    "data = data.map(lambda x, y: (x/255, y))"
   ]
  },
  {
   "cell_type": "code",
   "execution_count": null,
   "id": "90b561cc-ed2a-48f2-a9db-b6819999868a",
   "metadata": {
    "scrolled": true
   },
   "outputs": [],
   "source": [
    "data.as_numpy_iterator().next()[0]"
   ]
  },
  {
   "cell_type": "code",
   "execution_count": null,
   "id": "a8c5ee41-c484-448a-b79a-67b5055c6a4c",
   "metadata": {},
   "outputs": [],
   "source": [
    "data.as_numpy_iterator().next()[0].max(), data.as_numpy_iterator().next()[0].min()"
   ]
  },
  {
   "cell_type": "code",
   "execution_count": null,
   "id": "2ff8feaa-0072-464c-9a3a-e4531514fa8f",
   "metadata": {},
   "outputs": [],
   "source": [
    "len(data)"
   ]
  },
  {
   "cell_type": "markdown",
   "id": "d3139b5d-5843-4dae-97ee-f4d3ddc72eb5",
   "metadata": {},
   "source": [
    "## Splitting Dataset "
   ]
  },
  {
   "cell_type": "code",
   "execution_count": null,
   "id": "fde715c8-d3e4-4e03-b465-391301885a26",
   "metadata": {},
   "outputs": [],
   "source": [
    "training_size = int(len(data)*0.7)\n",
    "val_size = int(len(data)*0.2) + 1\n",
    "test_size = int(len(data)*0.1)\n",
    "\n",
    "training_size + val_size + test_size"
   ]
  },
  {
   "cell_type": "code",
   "execution_count": null,
   "id": "560c59e3-f923-495d-b4c8-23396c1735e7",
   "metadata": {},
   "outputs": [],
   "source": [
    "training_data = data.take(training_size)\n",
    "val_data = data.skip(training_size).take(val_size)\n",
    "test_data =  data.skip(training_size + val_size).take(test_size)"
   ]
  },
  {
   "cell_type": "markdown",
   "id": "77fae0ca-ed07-41c0-b1f6-08bfed88d84e",
   "metadata": {},
   "source": [
    "## Creating CNN Model"
   ]
  },
  {
   "cell_type": "code",
   "execution_count": null,
   "id": "4d9ac0db-5dee-4105-b3ea-be72733281ed",
   "metadata": {},
   "outputs": [],
   "source": [
    "from tensorflow.keras.models import Sequential\n",
    "from tensorflow.keras.layers import Conv2D, MaxPooling2D, Dense, Flatten, Dropout"
   ]
  },
  {
   "cell_type": "code",
   "execution_count": null,
   "id": "d962ef52-58a7-4cbf-b0bf-6a232887cf06",
   "metadata": {},
   "outputs": [],
   "source": [
    "model = Sequential()"
   ]
  },
  {
   "cell_type": "code",
   "execution_count": null,
   "id": "453e7c06-730f-4533-8a93-8d089b7aff9c",
   "metadata": {},
   "outputs": [],
   "source": [
    "data.as_numpy_iterator().next()[0][0].shape"
   ]
  },
  {
   "cell_type": "code",
   "execution_count": null,
   "id": "9d6a4f28-34b6-4f43-8f92-b8bf026cc70b",
   "metadata": {},
   "outputs": [],
   "source": [
    "model.add(Conv2D(32, (3,3), 1, activation = 'relu', input_shape = (256, 256, 3)))\n",
    "model.add(MaxPooling2D())\n",
    "model.add(Dropout(0.5))\n",
    "\n",
    "model.add(Conv2D(32, (3,3), 1, activation = 'relu'))\n",
    "model.add(MaxPooling2D())\n",
    "model.add(Dropout(0.5))\n",
    "\n",
    "model.add(Conv2D(16, (3,3), 1, activation = 'relu'))\n",
    "model.add(MaxPooling2D())\n",
    "model.add(Dropout(0.5))\n",
    "\n",
    "model.add(Conv2D(16, (3,3), 1, activation = 'relu'))\n",
    "model.add(MaxPooling2D())\n",
    "model.add(Dropout(0.5))\n",
    "\n",
    "\n",
    "model.add(Flatten())\n",
    "\n",
    "model.add(Dense(256, activation = 'relu'))\n",
    "model.add(Dropout(0.5))\n",
    "model.add(Dense(1, activation = 'sigmoid'))"
   ]
  },
  {
   "cell_type": "code",
   "execution_count": null,
   "id": "d8b37ea3-5ccd-4e48-918a-1a3f16779edb",
   "metadata": {},
   "outputs": [],
   "source": [
    "model.compile(optimizer = 'adam', loss = 'binary_crossentropy', metrics = ['accuracy'])"
   ]
  },
  {
   "cell_type": "code",
   "execution_count": null,
   "id": "a13a8e87-8d9d-4280-a461-38f6f441ad38",
   "metadata": {},
   "outputs": [],
   "source": [
    "model.summary()"
   ]
  },
  {
   "cell_type": "markdown",
   "id": "8cc1d1f7-8599-43da-a273-d715bba27ac6",
   "metadata": {},
   "source": [
    "## Training The Model"
   ]
  },
  {
   "cell_type": "code",
   "execution_count": null,
   "id": "7d0d8d91-b3b8-48ed-a336-133013f5c554",
   "metadata": {},
   "outputs": [],
   "source": [
    "log_dir = 'LogDir'"
   ]
  },
  {
   "cell_type": "code",
   "execution_count": null,
   "id": "8326c2f8-3843-45e0-bf46-af344ce41885",
   "metadata": {},
   "outputs": [],
   "source": [
    "tensorflowboard_callback = tf.keras.callbacks.TensorBoard(log_dir)"
   ]
  },
  {
   "cell_type": "code",
   "execution_count": null,
   "id": "fb3132d0-69d0-430c-a8ca-c1447434f99d",
   "metadata": {
    "scrolled": true
   },
   "outputs": [],
   "source": [
    "hist = model.fit(training_data, epochs = 30, validation_data = val_data, callbacks=[tensorflowboard_callback] )"
   ]
  },
  {
   "cell_type": "code",
   "execution_count": null,
   "id": "48de0098-a747-45f9-93d2-0ec813e5d5a5",
   "metadata": {
    "scrolled": true
   },
   "outputs": [],
   "source": [
    "hist.history"
   ]
  },
  {
   "cell_type": "markdown",
   "id": "5729e4a7-0386-408c-a32e-213866bf74d3",
   "metadata": {},
   "source": [
    "## Model Performance "
   ]
  },
  {
   "cell_type": "code",
   "execution_count": null,
   "id": "31ed2bbc-1919-4d03-bc4b-f4846952f878",
   "metadata": {},
   "outputs": [],
   "source": [
    "fig, axs = plt.subplots(2, 1, figsize=(10,10))\n",
    "axs[0].plot(model_fit.history['loss'], color='red', label='Loss')\n",
    "axs[0].plot(model_fit.history['val_loss'], color='orange', label='Validation Loss')\n",
    "axs[0].legend(loc='upper right')\n",
    "\n",
    "axs[1].plot(model_fit.history['accuracy'], \n",
    "             color='green', \n",
    "             label='Accuracy')\n",
    "axs[1].plot(model_fit.history['val_accuracy'], \n",
    "             color='teal', \n",
    "             label='Validation Accuracy')\n",
    "axs[1].legend(loc='upper left')"
   ]
  },
  {
   "cell_type": "markdown",
   "id": "b48d3baf-08e2-4994-a837-55850acfd51c",
   "metadata": {},
   "source": [
    "## Evaluating Model"
   ]
  },
  {
   "cell_type": "code",
   "execution_count": null,
   "id": "496a3274-818a-4743-ae2a-37c5f6c10b83",
   "metadata": {},
   "outputs": [],
   "source": [
    "from tensorflow.keras.metrics import Precision, Recall, BinaryAccuracy, SpecificityAtSensivity\n",
    "\n",
    "pre = Precision()\n",
    "acc = BinaryAccuracy()\n",
    "rec = Recall()\n",
    "spe = SpecificityAtSensitivity(0.5)"
   ]
  },
  {
   "cell_type": "code",
   "execution_count": null,
   "id": "761d1259-0b16-4513-a58e-1b9410b380cb",
   "metadata": {},
   "outputs": [],
   "source": [
    "for batch in test_data.as_numpy_iterator():\n",
    "    X, y = batch\n",
    "    y_pred = model.predict(X)\n",
    "    pre.update_state(y, y_pred)\n",
    "    rec.update_state(y, y_pred)\n",
    "    acc.update_state(y, y_pred)\n",
    "    spe.update_state(y, y_pred)"
   ]
  },
  {
   "cell_type": "code",
   "execution_count": null,
   "id": "27e46f44-288f-4e47-a524-55047f4b150f",
   "metadata": {},
   "outputs": [],
   "source": [
    "precision = pre.result().numpy()\n",
    "recall = rec.result().numpy()\n",
    "f1 = 2 * (precision*recall) / (precision+recall)\n",
    "\n",
    "print('Accuracy\\t:', acc.result().numpy())\n",
    "print('Precision\\t:', precision)\n",
    "print('Recall\\t\\t:', recall)\n",
    "print('Specificity\\t:', spe.result().numpy())\n",
    "print('F1\\t\\t:', f1)"
   ]
  },
  {
   "cell_type": "markdown",
   "id": "602a5f7b-022f-4cdd-aa5b-a4f3b03212c9",
   "metadata": {},
   "source": [
    "## Exporting Model"
   ]
  },
  {
   "cell_type": "code",
   "execution_count": null,
   "id": "10961138-70c1-4223-85f7-0991173ce329",
   "metadata": {},
   "outputs": [],
   "source": [
    "model.save(os.path.join('models', 'ODIR_NoDataAug.h5'))"
   ]
  },
  {
   "cell_type": "code",
   "execution_count": null,
   "id": "a0c63e72-ec7e-4f7d-a44f-44f5263f02de",
   "metadata": {},
   "outputs": [],
   "source": [
    "from tensorflow.keras.models import load_model\n",
    "\n",
    "model = load_model(os.path.join('models', 'ODIR_NoDataAug.h5'))\n",
    "model.summary()"
   ]
  }
 ],
 "metadata": {
  "kernelspec": {
   "display_name": "Python 3 (ipykernel)",
   "language": "python",
   "name": "python3"
  },
  "language_info": {
   "codemirror_mode": {
    "name": "ipython",
    "version": 3
   },
   "file_extension": ".py",
   "mimetype": "text/x-python",
   "name": "python",
   "nbconvert_exporter": "python",
   "pygments_lexer": "ipython3",
   "version": "3.10.10"
  }
 },
 "nbformat": 4,
 "nbformat_minor": 5
}
