{
 "cells": [
  {
   "cell_type": "markdown",
   "id": "9319286a-88ed-461c-b247-4678c0f282df",
   "metadata": {},
   "source": [
    "## Importing Dependencies"
   ]
  },
  {
   "cell_type": "code",
   "execution_count": 1,
   "id": "0dd8cc40-2aea-4ff7-b882-9a435f97a5e0",
   "metadata": {},
   "outputs": [],
   "source": [
    "import os\n",
    "import numpy as np\n",
    "\n",
    "import cv2\n",
    "import matplotlib.pylab as plt\n",
    "\n",
    "import tensorflow as tf"
   ]
  },
  {
   "cell_type": "code",
   "execution_count": 2,
   "id": "ac372b27-4540-45a4-b0cd-9011a5c78eac",
   "metadata": {},
   "outputs": [],
   "source": [
    "gpus = tf.config.experimental.list_physical_devices('GPU')\n",
    "for gpu in gpus:\n",
    "    tf.config.experimental.set_memory_growth(gpu, True)"
   ]
  },
  {
   "cell_type": "markdown",
   "id": "135a33ee-dd0e-4081-a82a-c8687146f8a9",
   "metadata": {},
   "source": [
    "## Loading Datasets"
   ]
  },
  {
   "cell_type": "code",
   "execution_count": 3,
   "id": "c1052ab0-21bb-4d88-8f3d-f68da270c074",
   "metadata": {},
   "outputs": [],
   "source": [
    "train_dir = 'imgdata_v2/split_dataset/train_aug/'\n",
    "test_dir = 'imgdata_v2/split_dataset/test/'\n",
    "val_dir = 'imgdata_v2/split_dataset/val/'"
   ]
  },
  {
   "cell_type": "code",
   "execution_count": 4,
   "id": "93e9d3c8-9d97-4174-9abb-a83140830526",
   "metadata": {},
   "outputs": [
    {
     "name": "stdout",
     "output_type": "stream",
     "text": [
      "Found 7051 files belonging to 2 classes.\n",
      "Found 415 files belonging to 2 classes.\n"
     ]
    }
   ],
   "source": [
    "train_dataset = tf.keras.utils.image_dataset_from_directory(train_dir, image_size=(256, 256))\n",
    "val_dataset = tf.keras.utils.image_dataset_from_directory(val_dir, image_size=(256, 256))"
   ]
  },
  {
   "cell_type": "markdown",
   "id": "98a76965-b263-4258-82b1-ce615c04de12",
   "metadata": {},
   "source": [
    "## Scaling Dataset"
   ]
  },
  {
   "cell_type": "code",
   "execution_count": 5,
   "id": "1aff7a79-d4ad-44d2-bb2b-84f5cd28af15",
   "metadata": {},
   "outputs": [
    {
     "data": {
      "text/plain": [
       "255.0"
      ]
     },
     "execution_count": 5,
     "metadata": {},
     "output_type": "execute_result"
    }
   ],
   "source": [
    "train_dataset.as_numpy_iterator().next()[0][0].max()"
   ]
  },
  {
   "cell_type": "code",
   "execution_count": 6,
   "id": "e03a170e-a3d7-40cf-a413-fdd810434dcf",
   "metadata": {},
   "outputs": [],
   "source": [
    "train_data = train_dataset.map(lambda x, y: (x/255, y))"
   ]
  },
  {
   "cell_type": "code",
   "execution_count": 7,
   "id": "fa90edae-fd50-4ead-b323-4c5c186d9cea",
   "metadata": {},
   "outputs": [
    {
     "data": {
      "text/plain": [
       "1.0"
      ]
     },
     "execution_count": 7,
     "metadata": {},
     "output_type": "execute_result"
    }
   ],
   "source": [
    "train_data.as_numpy_iterator().next()[0][0].max()"
   ]
  },
  {
   "cell_type": "code",
   "execution_count": 8,
   "id": "73bb2cc9-0a8a-41d3-a963-d30ffbb54bf3",
   "metadata": {},
   "outputs": [],
   "source": [
    "val_data = val_dataset.map(lambda x, y: (x/255, y))"
   ]
  },
  {
   "cell_type": "markdown",
   "id": "8bfdbab6-18ce-4810-948c-ed91d254f1eb",
   "metadata": {},
   "source": [
    "## VGG16 Model"
   ]
  },
  {
   "cell_type": "code",
   "execution_count": 9,
   "id": "f8c9d1ef-16fa-443f-9264-f09a1d363b35",
   "metadata": {},
   "outputs": [],
   "source": [
    "from keras.layers import Dense, Flatten\n",
    "from keras.models import Model\n",
    "from keras.applications.vgg16 import VGG16"
   ]
  },
  {
   "cell_type": "code",
   "execution_count": 10,
   "id": "637a1009-97db-41d1-b5a8-6bb062b1f6d1",
   "metadata": {},
   "outputs": [],
   "source": [
    "vgg = VGG16(input_shape=(256, 256, 3), weights='imagenet', include_top=False)"
   ]
  },
  {
   "cell_type": "code",
   "execution_count": 11,
   "id": "e559e546-e9ff-451e-a3ec-e1213a7f85d2",
   "metadata": {},
   "outputs": [],
   "source": [
    "for layer in vgg.layers:\n",
    "    layer.trainaable = False"
   ]
  },
  {
   "cell_type": "code",
   "execution_count": 12,
   "id": "57e037b4-7430-4ae5-8667-4263d62fdf7c",
   "metadata": {},
   "outputs": [
    {
     "name": "stdout",
     "output_type": "stream",
     "text": [
      "Model: \"model\"\n",
      "_________________________________________________________________\n",
      " Layer (type)                Output Shape              Param #   \n",
      "=================================================================\n",
      " input_1 (InputLayer)        [(None, 256, 256, 3)]     0         \n",
      "                                                                 \n",
      " block1_conv1 (Conv2D)       (None, 256, 256, 64)      1792      \n",
      "                                                                 \n",
      " block1_conv2 (Conv2D)       (None, 256, 256, 64)      36928     \n",
      "                                                                 \n",
      " block1_pool (MaxPooling2D)  (None, 128, 128, 64)      0         \n",
      "                                                                 \n",
      " block2_conv1 (Conv2D)       (None, 128, 128, 128)     73856     \n",
      "                                                                 \n",
      " block2_conv2 (Conv2D)       (None, 128, 128, 128)     147584    \n",
      "                                                                 \n",
      " block2_pool (MaxPooling2D)  (None, 64, 64, 128)       0         \n",
      "                                                                 \n",
      " block3_conv1 (Conv2D)       (None, 64, 64, 256)       295168    \n",
      "                                                                 \n",
      " block3_conv2 (Conv2D)       (None, 64, 64, 256)       590080    \n",
      "                                                                 \n",
      " block3_conv3 (Conv2D)       (None, 64, 64, 256)       590080    \n",
      "                                                                 \n",
      " block3_pool (MaxPooling2D)  (None, 32, 32, 256)       0         \n",
      "                                                                 \n",
      " block4_conv1 (Conv2D)       (None, 32, 32, 512)       1180160   \n",
      "                                                                 \n",
      " block4_conv2 (Conv2D)       (None, 32, 32, 512)       2359808   \n",
      "                                                                 \n",
      " block4_conv3 (Conv2D)       (None, 32, 32, 512)       2359808   \n",
      "                                                                 \n",
      " block4_pool (MaxPooling2D)  (None, 16, 16, 512)       0         \n",
      "                                                                 \n",
      " block5_conv1 (Conv2D)       (None, 16, 16, 512)       2359808   \n",
      "                                                                 \n",
      " block5_conv2 (Conv2D)       (None, 16, 16, 512)       2359808   \n",
      "                                                                 \n",
      " block5_conv3 (Conv2D)       (None, 16, 16, 512)       2359808   \n",
      "                                                                 \n",
      " block5_pool (MaxPooling2D)  (None, 8, 8, 512)         0         \n",
      "                                                                 \n",
      " flatten (Flatten)           (None, 32768)             0         \n",
      "                                                                 \n",
      " dense (Dense)               (None, 1)                 32769     \n",
      "                                                                 \n",
      "=================================================================\n",
      "Total params: 14,747,457\n",
      "Trainable params: 14,747,457\n",
      "Non-trainable params: 0\n",
      "_________________________________________________________________\n"
     ]
    }
   ],
   "source": [
    "flatten = Flatten()(vgg.output)\n",
    "\n",
    "prediction = Dense(1, activation='sigmoid')(flatten)\n",
    "\n",
    "model = Model(inputs=vgg.input, outputs=prediction)\n",
    "\n",
    "model.compile(optimizer='adam', loss='binary_crossentropy', metrics=['accuracy'])\n",
    "\n",
    "model.summary()"
   ]
  },
  {
   "cell_type": "code",
   "execution_count": 13,
   "id": "dd679aaf-30a7-4cf3-a6d7-76a49b57e400",
   "metadata": {},
   "outputs": [],
   "source": [
    "from keras.callbacks import ModelCheckpoint, EarlyStopping, CSVLogger\n",
    "logdir = 'LogDir'\n",
    "\n",
    "try:\n",
    "    os.mkdir('saved_models')\n",
    "    os.mkdir('CSV_logs')\n",
    "    os.mkdir(logdir)\n",
    "except Exception as e:\n",
    "    pass    \n",
    "\n",
    "tfb_callback = tf.keras.callbacks.TensorBoard(logdir)\n",
    "early_stop = EarlyStopping(monitor='val_loss', patience=3, verbose=1)\n",
    "log_csv = CSVLogger('CSV_logs/my_logs.csv', separator=',', append=False)\n",
    "\n",
    "callbacks_list = [tfb_callback, early_stop, log_csv]"
   ]
  },
  {
   "cell_type": "code",
   "execution_count": 14,
   "id": "263c3781-d6c3-4df8-b890-4a5cf54f8dc7",
   "metadata": {},
   "outputs": [
    {
     "name": "stdout",
     "output_type": "stream",
     "text": [
      "Epoch 1/5\n",
      "221/221 [==============================] - 133s 466ms/step - loss: 0.5885 - accuracy: 0.6769 - val_loss: 0.3234 - val_accuracy: 0.8940\n",
      "Epoch 2/5\n",
      "221/221 [==============================] - 94s 423ms/step - loss: 0.2365 - accuracy: 0.9163 - val_loss: 0.2043 - val_accuracy: 0.9349\n",
      "Epoch 3/5\n",
      "221/221 [==============================] - 94s 422ms/step - loss: 0.1570 - accuracy: 0.9372 - val_loss: 0.1442 - val_accuracy: 0.9470\n",
      "Epoch 4/5\n",
      "221/221 [==============================] - 93s 421ms/step - loss: 0.1380 - accuracy: 0.9481 - val_loss: 0.1232 - val_accuracy: 0.9590\n",
      "Epoch 5/5\n",
      "221/221 [==============================] - 94s 423ms/step - loss: 0.1116 - accuracy: 0.9573 - val_loss: 0.1145 - val_accuracy: 0.9614\n"
     ]
    }
   ],
   "source": [
    "model_fit = model.fit(train_data, \n",
    "                       epochs=5, \n",
    "                       shuffle=True, \n",
    "                       validation_data=val_data,\n",
    "                       callbacks=callbacks_list)"
   ]
  },
  {
   "cell_type": "markdown",
   "id": "72e39a4f-40e2-415a-b6e1-e2820e912ead",
   "metadata": {},
   "source": [
    "## Model Performance "
   ]
  },
  {
   "cell_type": "code",
   "execution_count": 15,
   "id": "566dcf5f-3f2b-47ee-9967-59d889afd5c6",
   "metadata": {},
   "outputs": [
    {
     "data": {
      "text/plain": [
       "Text(0.5, 0.98, 'InceptionResNetV2 Model Performance Curves')"
      ]
     },
     "execution_count": 15,
     "metadata": {},
     "output_type": "execute_result"
    },
    {
     "data": {
      "image/png": "[encoded data removed]",
      "text/plain": [
       "<Figure size 2000x500 with 2 Axes>"
      ]
     },
     "metadata": {},
     "output_type": "display_data"
    }
   ],
   "source": [
    "fig, axs = plt.subplots(1, 2, figsize=(20,5))\n",
    "axs[0].plot(model_fit.history['loss'], \n",
    "            color='red', \n",
    "            label='Loss')\n",
    "axs[0].plot(model_fit.history['val_loss'], \n",
    "            color='orange', \n",
    "            label='Validation Loss')\n",
    "axs[0].legend(loc='upper right')\n",
    "axs[0].set_xlabel('Epochs', fontsize=15)\n",
    "axs[0].set_ylabel('Loss', fontsize=15)\n",
    "\n",
    "\n",
    "axs[1].plot(model_fit.history['accuracy'], \n",
    "             color='green', \n",
    "             label='Accuracy')\n",
    "axs[1].plot(model_fit.history['val_accuracy'], \n",
    "             color='teal', \n",
    "             label='Validation Accuracy')\n",
    "axs[1].legend(loc='upper left')\n",
    "axs[1].set_xlabel('Epochs', fontsize=15)\n",
    "axs[1].set_ylabel('Accuracy', fontsize=15)\n",
    "\n",
    "fig.suptitle('InceptionResNetV2 Model Performance Curves', fontsize=20)"
   ]
  },
  {
   "cell_type": "markdown",
   "id": "6335d7fb-36b8-4f18-8432-c46525998e12",
   "metadata": {},
   "source": [
    "## Exporting Model"
   ]
  },
  {
   "cell_type": "code",
   "execution_count": 16,
   "id": "50b7d8f3-24f0-492e-b382-405b0e33f240",
   "metadata": {},
   "outputs": [],
   "source": [
    "from keras.models import save_model, load_model\n",
    "\n",
    "model.save(os.path.join('models_Reboot/','VGG16_Re.h5'))"
   ]
  },
  {
   "cell_type": "code",
   "execution_count": 17,
   "id": "f6b0424c-56dd-4b92-9ad5-b7a5dbaa155d",
   "metadata": {},
   "outputs": [],
   "source": [
    "Model = load_model(os.path.join('models_Reboot/','VGG16_Re.h5'))"
   ]
  },
  {
   "cell_type": "code",
   "execution_count": 18,
   "id": "17d35c4e-1729-44fb-9107-358498e7f9d6",
   "metadata": {},
   "outputs": [
    {
     "name": "stdout",
     "output_type": "stream",
     "text": [
      "Model: \"model\"\n",
      "_________________________________________________________________\n",
      " Layer (type)                Output Shape              Param #   \n",
      "=================================================================\n",
      " input_1 (InputLayer)        [(None, 256, 256, 3)]     0         \n",
      "                                                                 \n",
      " block1_conv1 (Conv2D)       (None, 256, 256, 64)      1792      \n",
      "                                                                 \n",
      " block1_conv2 (Conv2D)       (None, 256, 256, 64)      36928     \n",
      "                                                                 \n",
      " block1_pool (MaxPooling2D)  (None, 128, 128, 64)      0         \n",
      "                                                                 \n",
      " block2_conv1 (Conv2D)       (None, 128, 128, 128)     73856     \n",
      "                                                                 \n",
      " block2_conv2 (Conv2D)       (None, 128, 128, 128)     147584    \n",
      "                                                                 \n",
      " block2_pool (MaxPooling2D)  (None, 64, 64, 128)       0         \n",
      "                                                                 \n",
      " block3_conv1 (Conv2D)       (None, 64, 64, 256)       295168    \n",
      "                                                                 \n",
      " block3_conv2 (Conv2D)       (None, 64, 64, 256)       590080    \n",
      "                                                                 \n",
      " block3_conv3 (Conv2D)       (None, 64, 64, 256)       590080    \n",
      "                                                                 \n",
      " block3_pool (MaxPooling2D)  (None, 32, 32, 256)       0         \n",
      "                                                                 \n",
      " block4_conv1 (Conv2D)       (None, 32, 32, 512)       1180160   \n",
      "                                                                 \n",
      " block4_conv2 (Conv2D)       (None, 32, 32, 512)       2359808   \n",
      "                                                                 \n",
      " block4_conv3 (Conv2D)       (None, 32, 32, 512)       2359808   \n",
      "                                                                 \n",
      " block4_pool (MaxPooling2D)  (None, 16, 16, 512)       0         \n",
      "                                                                 \n",
      " block5_conv1 (Conv2D)       (None, 16, 16, 512)       2359808   \n",
      "                                                                 \n",
      " block5_conv2 (Conv2D)       (None, 16, 16, 512)       2359808   \n",
      "                                                                 \n",
      " block5_conv3 (Conv2D)       (None, 16, 16, 512)       2359808   \n",
      "                                                                 \n",
      " block5_pool (MaxPooling2D)  (None, 8, 8, 512)         0         \n",
      "                                                                 \n",
      " flatten (Flatten)           (None, 32768)             0         \n",
      "                                                                 \n",
      " dense (Dense)               (None, 1)                 32769     \n",
      "                                                                 \n",
      "=================================================================\n",
      "Total params: 14,747,457\n",
      "Trainable params: 14,747,457\n",
      "Non-trainable params: 0\n",
      "_________________________________________________________________\n"
     ]
    }
   ],
   "source": [
    "Model.summary()"
   ]
  },
  {
   "cell_type": "markdown",
   "id": "87a16892-d2b3-4fea-93c7-f2fe829dd495",
   "metadata": {},
   "source": [
    "## Evaluating Model"
   ]
  },
  {
   "cell_type": "code",
   "execution_count": 19,
   "id": "b5df5fce-aa25-471d-a3a7-6c81d2a53328",
   "metadata": {},
   "outputs": [
    {
     "name": "stdout",
     "output_type": "stream",
     "text": [
      "Found 210 files belonging to 2 classes.\n"
     ]
    }
   ],
   "source": [
    "test_dataset = tf.keras.utils.image_dataset_from_directory(test_dir, image_size=(256, 256))"
   ]
  },
  {
   "cell_type": "code",
   "execution_count": 20,
   "id": "cb7c8f7b-0d3a-4388-9706-28d0d481d9cf",
   "metadata": {},
   "outputs": [],
   "source": [
    "test_data = test_dataset.map(lambda x, y : (x/255, y))"
   ]
  },
  {
   "cell_type": "code",
   "execution_count": 21,
   "id": "2387c6d0-b3d9-4849-8e9d-128d3e4f870c",
   "metadata": {},
   "outputs": [],
   "source": [
    "from tensorflow.keras.metrics import Precision, Recall, BinaryAccuracy\n",
    "\n",
    "pre = Precision()\n",
    "acc = BinaryAccuracy()\n",
    "rec = Recall()"
   ]
  },
  {
   "cell_type": "code",
   "execution_count": 22,
   "id": "cb5a3fbb-60b3-4429-9aff-51b15bd86f69",
   "metadata": {},
   "outputs": [
    {
     "name": "stdout",
     "output_type": "stream",
     "text": [
      "1/1 [==============================] - 0s 192ms/step\n",
      "1/1 [==============================] - 0s 37ms/step\n",
      "1/1 [==============================] - 0s 37ms/step\n",
      "1/1 [==============================] - 0s 34ms/step\n",
      "1/1 [==============================] - 0s 40ms/step\n",
      "1/1 [==============================] - 0s 35ms/step\n",
      "1/1 [==============================] - 4s 4s/step\n"
     ]
    }
   ],
   "source": [
    "for batch in test_data.as_numpy_iterator():\n",
    "    X, y = batch\n",
    "    y_pred = model.predict(X)\n",
    "    \n",
    "    acc.update_state(y, y_pred)\n",
    "    pre.update_state(y, y_pred)\n",
    "    rec.update_state(y, y_pred)"
   ]
  },
  {
   "cell_type": "code",
   "execution_count": 23,
   "id": "ef6af3bf-5e07-45db-936a-cdac2024920b",
   "metadata": {},
   "outputs": [
    {
     "name": "stdout",
     "output_type": "stream",
     "text": [
      "Accuracy\t: 0.98571\n",
      "Precision\t: 0.98165\n",
      "Recall\t\t: 0.99074\n",
      "F1\t\t: 0.98618\n"
     ]
    }
   ],
   "source": [
    "accuracy = acc.result().numpy()\n",
    "precision = pre.result().numpy()\n",
    "recall = rec.result().numpy()\n",
    "f1 = 2 * (precision*recall) / (precision+recall)\n",
    "\n",
    "print('Accuracy\\t:', round(accuracy,5))\n",
    "print('Precision\\t:', round(precision,5))\n",
    "print('Recall\\t\\t:', round(recall,5))\n",
    "print('F1\\t\\t:', round(f1,5))"
   ]
  },
  {
   "cell_type": "code",
   "execution_count": 24,
   "id": "b5ffcd1e-a000-4b4f-a542-f7c1849d90b3",
   "metadata": {},
   "outputs": [
    {
     "name": "stdout",
     "output_type": "stream",
     "text": [
      "1/1 [==============================] - 0s 36ms/step\n",
      "1/1 [==============================] - 0s 39ms/step\n",
      "1/1 [==============================] - 0s 37ms/step\n",
      "1/1 [==============================] - 0s 37ms/step\n",
      "1/1 [==============================] - 0s 35ms/step\n",
      "1/1 [==============================] - 0s 38ms/step\n",
      "1/1 [==============================] - 0s 30ms/step\n"
     ]
    },
    {
     "data": {
      "image/png": "[encoded data removed]",
      "text/plain": [
       "<Figure size 500x500 with 1 Axes>"
      ]
     },
     "metadata": {},
     "output_type": "display_data"
    }
   ],
   "source": [
    "import seaborn as sns\n",
    "\n",
    "Y=[]\n",
    "Y_pred=[]\n",
    "for batch in test_data.as_numpy_iterator():\n",
    "    X, y = batch\n",
    "    y_pred = model.predict(X)\n",
    "    y_pred = (y_pred > 0.5)\n",
    "    Y.extend(y)\n",
    "    Y_pred.extend(y_pred)\n",
    "\n",
    "from sklearn.metrics import confusion_matrix\n",
    "cm = confusion_matrix(Y, Y_pred)\n",
    "\n",
    "plt.figure(figsize=(5, 5))\n",
    "sns.heatmap(cm, annot=True, fmt='d', cmap='copper', cbar=False,\n",
    "            xticklabels=['Cataract', 'Normal'], yticklabels=['Cataract', 'Normal'])\n",
    "plt.xlabel('PREDICTED', fontsize=12)\n",
    "plt.ylabel('TRUE', fontsize=12)\n",
    "plt.title('CNN Model Confusion Matrix', fontsize=15)\n",
    "plt.show()"
   ]
  }
 ],
 "metadata": {
  "kernelspec": {
   "display_name": "Python 3 (ipykernel)",
   "language": "python",
   "name": "python3"
  },
  "language_info": {
   "codemirror_mode": {
    "name": "ipython",
    "version": 3
   },
   "file_extension": ".py",
   "mimetype": "text/x-python",
   "name": "python",
   "nbconvert_exporter": "python",
   "pygments_lexer": "ipython3",
   "version": "3.10.10"
  }
 },
 "nbformat": 4,
 "nbformat_minor": 5
}
