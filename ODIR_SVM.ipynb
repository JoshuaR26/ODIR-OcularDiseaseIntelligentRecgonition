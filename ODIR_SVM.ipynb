{
 "cells": [
  {
   "cell_type": "markdown",
   "id": "ca5025ca-1261-47aa-a85b-03db2aaca440",
   "metadata": {},
   "source": [
    "## <u> Ocular Cataract Intelligent Recognition (OCIR) </u>\n",
    "\n",
    "<i>Leveraging the power of Deep Learning, our trained Convolutional Neural Network(CNN) model aims to detect one of the most common ocular conditions- Cataract.</i>\n",
    "\n",
    "<u><i>Project Team:</i></u>\n",
    "1. Joshua S Raju 22BAI1213\n",
    "3. Shubham Yadav 22BAI1427\n",
    "2. Md Rameez Haider 22BRS1327\n",
    "   \n",
    "\n",
    "<b><u>DISCLAIMER:</b></u> <i>While our CNN model aids in cataract detection, it is not a substitute for professional medical advice. Please consult a qualified healthcare provider for a comprehensive eye examination and diagnosis.</i>\n",
    "\n",
    "\n",
    "<b>DATASET:</b>\n",
    "https://www.kaggle.com/datasets/andrewmvd/ocular-disease-recognition-odir5k\n",
    "https://www.kaggle.com/datasets/jr2ngb/cataractdataset"
   ]
  },
  {
   "cell_type": "markdown",
   "id": "9d0cd224-d456-4337-92a7-1e5f60c18506",
   "metadata": {},
   "source": [
    "## Importing Dependencies"
   ]
  },
  {
   "cell_type": "code",
   "execution_count": 1,
   "id": "b1ccb9f9-4f66-4c73-b90d-7e4e9cb446ba",
   "metadata": {},
   "outputs": [],
   "source": [
    "import numpy as np\n",
    "import os\n",
    "\n",
    "import cv2\n",
    "import matplotlib.pylab as plt\n",
    "import imghdr\n",
    "\n",
    "import tensorflow as tf"
   ]
  },
  {
   "cell_type": "markdown",
   "id": "a11cfaf1-383c-43dd-9c00-5438b0cb44e9",
   "metadata": {},
   "source": [
    "Tensorflow GPU Management "
   ]
  },
  {
   "cell_type": "code",
   "execution_count": 2,
   "id": "79da8a4c-a216-4e0e-9002-5c689ee199a8",
   "metadata": {},
   "outputs": [],
   "source": [
    "gpus = tf.config.experimental.list_physical_devices('GPU')\n",
    "for gpu in gpus:\n",
    "    tf.config.experimental.set_memory_growth(gpu, True)"
   ]
  },
  {
   "cell_type": "markdown",
   "id": "3217d58b-44b6-4dd8-b15e-b2bfed1a2820",
   "metadata": {},
   "source": [
    "## Cleaning Image Data"
   ]
  },
  {
   "cell_type": "code",
   "execution_count": 3,
   "id": "a14e36bc-c469-436f-9e3f-2323527e4ec5",
   "metadata": {},
   "outputs": [],
   "source": [
    "data_dir = 'imgdata_v3'"
   ]
  },
  {
   "cell_type": "markdown",
   "id": "3b24f289-f434-4916-83db-0a53aba1864f",
   "metadata": {},
   "source": [
    "## Creating Image Dataset"
   ]
  },
  {
   "cell_type": "code",
   "execution_count": 4,
   "id": "7311dc17-f38e-4ebb-9eb3-acf607168434",
   "metadata": {},
   "outputs": [
    {
     "name": "stdout",
     "output_type": "stream",
     "text": [
      "Found 7437 files belonging to 2 classes.\n"
     ]
    }
   ],
   "source": [
    "dataset = tf.keras.utils.image_dataset_from_directory(data_dir, image_size=(256, 256))"
   ]
  },
  {
   "cell_type": "code",
   "execution_count": null,
   "id": "ccec34bf-6692-4720-bc11-66fafaf9b337",
   "metadata": {},
   "outputs": [],
   "source": [
    "batch = dataset.as_numpy_iterator().next()\n",
    "len(batch)"
   ]
  },
  {
   "cell_type": "code",
   "execution_count": null,
   "id": "e2f3d371-88a9-4c99-86b6-a9e9bb6f92c4",
   "metadata": {},
   "outputs": [],
   "source": [
    "classes = ['cataract', 'normal']\n",
    "classes"
   ]
  },
  {
   "cell_type": "code",
   "execution_count": null,
   "id": "f15463d4-a2f0-4585-a592-4bfd07611cb5",
   "metadata": {},
   "outputs": [],
   "source": [
    "fig, axs = plt.subplots(5,5, figsize=(20,20))\n",
    "for idx, img in enumerate(batch[0][:25]):\n",
    "    row = idx//5\n",
    "    col = idx%5\n",
    "\n",
    "    axs[row, col].imshow(img.astype(int))\n",
    "    axs[row, col].axis('off')\n",
    "    axs[row, col].set_title(classes[batch[1][idx]])"
   ]
  },
  {
   "cell_type": "markdown",
   "id": "a0d82c5d-6216-4aa1-871b-84c7d71b6201",
   "metadata": {},
   "source": [
    "## Scaling Dataset"
   ]
  },
  {
   "cell_type": "code",
   "execution_count": null,
   "id": "a2a8a789-c5db-455e-94d3-4562dc27c530",
   "metadata": {},
   "outputs": [],
   "source": [
    "batch[0][0].shape, batch[0][0].max(), batch[0][0].min()"
   ]
  },
  {
   "cell_type": "code",
   "execution_count": null,
   "id": "42ce1e05-232c-4f16-8058-2a005de1cc2a",
   "metadata": {},
   "outputs": [],
   "source": [
    "data = dataset.map(lambda x,y: (x/255, y))"
   ]
  },
  {
   "cell_type": "code",
   "execution_count": null,
   "id": "cc570353-7860-4205-be50-c260f35b95fd",
   "metadata": {},
   "outputs": [],
   "source": [
    "print(data.as_numpy_iterator().next()[0][0].shape, \n",
    "    data.as_numpy_iterator().next()[0][0].max(), \n",
    "    data.as_numpy_iterator().next()[0][0].min())"
   ]
  },
  {
   "cell_type": "markdown",
   "id": "a03a8cd2-17ad-4cc7-8707-8e0541f7e4bc",
   "metadata": {},
   "source": [
    "## Splitting Dataset"
   ]
  },
  {
   "cell_type": "code",
   "execution_count": null,
   "id": "06ef05d8-8d59-44c7-a0df-9dc70a5337db",
   "metadata": {},
   "outputs": [],
   "source": [
    "len(data)"
   ]
  },
  {
   "cell_type": "code",
   "execution_count": null,
   "id": "55f3a56b-4682-4bfa-b9d9-b264a0b447fe",
   "metadata": {},
   "outputs": [],
   "source": [
    "train_size = int(len(data)*0.7)\n",
    "val_size = int(len(data)*0.2)+1\n",
    "test_size = int(len(data)*0.1)\n",
    "\n",
    "train_size + val_size + test_size"
   ]
  },
  {
   "cell_type": "code",
   "execution_count": null,
   "id": "d7e9f69e-87fa-4aa0-9555-1734cdca6f7a",
   "metadata": {},
   "outputs": [],
   "source": [
    "train_data = data.take(train_size)\n",
    "val_data = data.skip(train_size).take(val_size)\n",
    "test_data = data.skip(train_size+val_size).take(test_size)"
   ]
  },
  {
   "cell_type": "markdown",
   "id": "83a5a8d9-5dc5-4693-bbed-789f3623b03c",
   "metadata": {},
   "source": [
    "## Training CNN Model"
   ]
  },
  {
   "cell_type": "code",
   "execution_count": null,
   "id": "a8e55d5f-ffec-4a11-a3ca-e8a621c77232",
   "metadata": {},
   "outputs": [],
   "source": [
    "from tensorflow.keras.models import Sequential\n",
    "from tensorflow.keras.layers import Conv2D, MaxPooling2D, Flatten, Dense, Dropout\n",
    "from tensorflow.keras.regularizers import l2"
   ]
  },
  {
   "cell_type": "code",
   "execution_count": null,
   "id": "44478900-af11-4795-9df0-6716db3bde0d",
   "metadata": {},
   "outputs": [],
   "source": [
    "model = Sequential()\n",
    "\n",
    "model.add(Conv2D(16, (3,3), 1, activation='relu', input_shape=(256,256,3)))\n",
    "model.add(MaxPooling2D())\n",
    "model.add(Dropout(0.4))\n",
    "\n",
    "model.add(Conv2D(32, (3,3), 1, activation='relu'))\n",
    "model.add(MaxPooling2D())\n",
    "model.add(Dropout(0.5))\n",
    "\n",
    "model.add(Conv2D(16, (3,3), 1, activation='relu'))\n",
    "model.add(MaxPooling2D())\n",
    "model.add(Dropout(0.3))\n",
    "\n",
    "model.add(Flatten())\n",
    "\n",
    "model.add(Dense(256, activation='relu'))\n",
    "model.add(Dropout(0.3))\n",
    "\n",
    "model.add(Dense(1, kernel_regularizer=l2(0.001), activation='linear'))\n",
    "\n",
    "model.compile(optimizer='adam', loss='hinge', metrics='accuracy')\n",
    "\n",
    "model.summary()"
   ]
  },
  {
   "cell_type": "code",
   "execution_count": null,
   "id": "34361bb7-1b45-4263-a4a2-26465dbbdd9e",
   "metadata": {},
   "outputs": [],
   "source": [
    "logdir = 'LogDir'\n",
    "\n",
    "try:\n",
    "    os.mkdir(logdir)\n",
    "except Exception as e:\n",
    "    pass    \n",
    "\n",
    "tfb_callback = tf.keras.callbacks.TensorBoard(logdir)"
   ]
  },
  {
   "cell_type": "code",
   "execution_count": null,
   "id": "1ece821d-bf9a-4bd9-8a78-beb92d5e2173",
   "metadata": {
    "scrolled": true
   },
   "outputs": [],
   "source": [
    "model_fit = model.fit(train_data, epochs=30, shuffle=True, validation_data=val_data, callbacks=[tfb_callback])"
   ]
  },
  {
   "cell_type": "markdown",
   "id": "868c56da-1d6b-49ac-97d7-6a2d41808e87",
   "metadata": {},
   "source": [
    "## Model Performance"
   ]
  },
  {
   "cell_type": "code",
   "execution_count": null,
   "id": "3cf05b0f-cc78-4fed-97f2-4878e962f977",
   "metadata": {},
   "outputs": [],
   "source": [
    "fig, axs = plt.subplots(2,1, figsize=(8,8))\n",
    "axs[0].plot(model_fit.history['loss'], color='red', label='Loss')\n",
    "axs[0].plot(model_fit.history['val_loss'], color='orange', label='Val_Loss')\n",
    "axs[0].legend(loc='upper right')\n",
    "\n",
    "\n",
    "axs[1].plot(model_fit.history['accuracy'], color='green', label='Accuracy')\n",
    "axs[1].plot(model_fit.history['val_accuracy'], color='teal', label='Val_Accuracy')\n",
    "axs[1].legend(loc='upper left')"
   ]
  },
  {
   "cell_type": "markdown",
   "id": "7876df85-01e7-461c-9565-d2fd38eaf445",
   "metadata": {},
   "source": [
    "## Evaluating Model"
   ]
  },
  {
   "cell_type": "code",
   "execution_count": null,
   "id": "ff0987ee-e267-420c-a06c-776919ad7041",
   "metadata": {},
   "outputs": [],
   "source": [
    "from tensorflow.keras.metrics import Precision, Recall, BinaryAccuracy, SpecificityAtSensitivity"
   ]
  },
  {
   "cell_type": "code",
   "execution_count": null,
   "id": "ebb1a0df-5ae9-4cc8-8912-9bb0096b1899",
   "metadata": {},
   "outputs": [],
   "source": [
    "pre = Precision()\n",
    "rec = Recall()\n",
    "acc = BinaryAccuracy()\n",
    "spe = SpecificityAtSensitivity(0.5)"
   ]
  },
  {
   "cell_type": "code",
   "execution_count": null,
   "id": "b3d69e47-6a79-4fc0-9ac0-a08903650a00",
   "metadata": {},
   "outputs": [],
   "source": [
    "for batch in test_data.as_numpy_iterator():\n",
    "    X, y = batch\n",
    "    y_pred = model.predict(X)\n",
    "    pre.update_state(y, y_pred)\n",
    "    rec.update_state(y, y_pred)\n",
    "    acc.update_state(y, y_pred)\n",
    "    spe.update_state(y, y_pred)"
   ]
  },
  {
   "cell_type": "code",
   "execution_count": null,
   "id": "1b546076-c348-4dd6-acfa-660c7913be96",
   "metadata": {},
   "outputs": [],
   "source": [
    "precision = pre.result().numpy()\n",
    "recall = rec.result().numpy()\n",
    "f1 = 2 * (precision*recall) / (precision+recall)\n",
    "\n",
    "print('Accuracy\\t:', acc.result().numpy())\n",
    "print('Precision\\t:', precision)\n",
    "print('Recall\\t\\t:', recall)\n",
    "print('Specificity\\t:', spe.result().numpy())\n",
    "print('F1\\t\\t:', f1)"
   ]
  },
  {
   "cell_type": "markdown",
   "id": "928d7178-d0a0-44b9-a45f-a6caa56f6d86",
   "metadata": {},
   "source": [
    "## Exporting Model"
   ]
  },
  {
   "cell_type": "code",
   "execution_count": null,
   "id": "bf57e21a-bd61-4846-bfbf-e5cf4dc84803",
   "metadata": {},
   "outputs": [],
   "source": [
    "model.save(os.path.join('models','ODIR_SVM.h5'))"
   ]
  },
  {
   "cell_type": "code",
   "execution_count": null,
   "id": "5d82ad27-2521-4b9e-833d-5a7720caddeb",
   "metadata": {},
   "outputs": [],
   "source": [
    "from tensorflow.keras.models import load_model"
   ]
  },
  {
   "cell_type": "code",
   "execution_count": null,
   "id": "b3ebbf22-4b80-40ff-9d07-c05f507925d2",
   "metadata": {},
   "outputs": [],
   "source": [
    "new_model = load_model(os.path.join('models','ODIR_SVM.h5'))\n",
    "new_model.summary()"
   ]
  }
 ],
 "metadata": {
  "kernelspec": {
   "display_name": "Python 3 (ipykernel)",
   "language": "python",
   "name": "python3"
  },
  "language_info": {
   "codemirror_mode": {
    "name": "ipython",
    "version": 3
   },
   "file_extension": ".py",
   "mimetype": "text/x-python",
   "name": "python",
   "nbconvert_exporter": "python",
   "pygments_lexer": "ipython3",
   "version": "3.10.10"
  }
 },
 "nbformat": 4,
 "nbformat_minor": 5
}
